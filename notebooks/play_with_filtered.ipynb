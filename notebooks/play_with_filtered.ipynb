{
 "cells": [
  {
   "cell_type": "code",
   "execution_count": null,
   "id": "d44375e1-9062-4900-83a1-d9d32c1db8ff",
   "metadata": {},
   "outputs": [],
   "source": [
    "import os\n",
    "from pathlib import Path\n",
    "\n",
    "import numpy as np\n",
    "import pandas as pd\n",
    "import seaborn as sns\n",
    "from tqdm.notebook import tqdm"
   ]
  },
  {
   "cell_type": "markdown",
   "id": "47108586-f161-416e-8882-0a4d46636e65",
   "metadata": {},
   "source": [
    "# Purpose\n",
    "(Step 4.) EDA on filtered data and prepare for analysis"
   ]
  },
  {
   "cell_type": "code",
   "execution_count": null,
   "id": "ba49f932-7995-44e1-9d69-cc57e0562ded",
   "metadata": {},
   "outputs": [],
   "source": [
    "ROOT_DIR = Path.cwd().parent\n",
    "DATA_DIR = ROOT_DIR / \"data\" \n",
    "RAW_DATA_DIR = DATA_DIR / \"raw\"\n",
    "CSV_DATA_DIR = DATA_DIR / \"to_csv\"\n",
    "FILTERED_DATA_DIR = DATA_DIR / \"filtered\"\n",
    "TXT_DATA_DIR = RAW_DATA_DIR / \"20210901\"\n",
    "MAIN_TXT_DATA_DIR = TXT_DATA_DIR / \"main\"\n",
    "\n",
    "\n",
    "print(ROOT_DIR)\n",
    "print(DATA_DIR)\n",
    "print(FILTERED_DATA_DIR)"
   ]
  },
  {
   "cell_type": "code",
   "execution_count": null,
   "id": "3b44b9fe-645a-4e10-ba70-2b18167f4ede",
   "metadata": {},
   "outputs": [],
   "source": [
    "# import itertools\n",
    "# list(itertools.product([0, 1], repeat=3))"
   ]
  },
  {
   "cell_type": "code",
   "execution_count": null,
   "id": "66d1faca-11a5-4771-a99b-3d58f2068eb1",
   "metadata": {},
   "outputs": [],
   "source": [
    "table_names = [\n",
    "  \"ADR\",\n",
    "  \"DEMO\",\n",
    "  \"DRUG\",\n",
    "  \"FOLLOWUP\",\n",
    "  \"IND\",\n",
    "  \"LINK\",\n",
    "  \"OUT\",\n",
    "  \"SRCE\",\n",
    "]"
   ]
  },
  {
   "cell_type": "code",
   "execution_count": null,
   "id": "d9176b69-679c-4ca0-91a8-f45bd900e313",
   "metadata": {},
   "outputs": [],
   "source": [
    "tables = {\n",
    "  table_name: pd.read_csv(FILTERED_DATA_DIR / f\"{table_name}.csv\", index_col=0) for table_name in table_names\n",
    "}"
   ]
  },
  {
   "cell_type": "code",
   "execution_count": null,
   "id": "9379d04c-8b6a-4179-841c-04a82b3795bf",
   "metadata": {},
   "outputs": [],
   "source": [
    "for name, table in tables.items():\n",
    "  print(f\"\\n\\n\\n# {name} count: {len(table):,}\")\n",
    "  display(table.head())\n",
    "  display(table.describe())\n",
    "  display(table.info())\n",
    "  print(\"\\nDuplicated\")\n",
    "  display(table[table.duplicated()])"
   ]
  },
  {
   "cell_type": "code",
   "execution_count": null,
   "id": "f21405f4-640c-4392-8ebd-eccc16eae023",
   "metadata": {},
   "outputs": [],
   "source": [
    "# Demo for this data only has unique values"
   ]
  },
  {
   "cell_type": "code",
   "execution_count": null,
   "id": "1acadaab-6353-4ad9-8939-d3e5af32955f",
   "metadata": {},
   "outputs": [],
   "source": [
    "demo = tables[\"DEMO\"]\n",
    "demo[\"UMCReportId\"].duplicated().sum()"
   ]
  },
  {
   "cell_type": "code",
   "execution_count": null,
   "id": "0a60ef78-ef62-4143-8422-18b067c5d852",
   "metadata": {},
   "outputs": [],
   "source": [
    "# demo.hist()\n",
    "sns.histplot(data=demo, y=\"AgeGroup\")"
   ]
  },
  {
   "cell_type": "code",
   "execution_count": null,
   "id": "6d3a73b4-55aa-4cc3-8978-dd1cebaadf3e",
   "metadata": {},
   "outputs": [],
   "source": [
    "sns.histplot(data=demo, y=\"Gender\")"
   ]
  },
  {
   "cell_type": "code",
   "execution_count": null,
   "id": "69c568ae-e167-4182-8e04-89b4e6e38d06",
   "metadata": {},
   "outputs": [],
   "source": [
    "demo[\"Gender\"].value_counts()"
   ]
  },
  {
   "cell_type": "code",
   "execution_count": null,
   "id": "c63cf07c-6b51-4ebc-bfd9-449f35929cce",
   "metadata": {},
   "outputs": [],
   "source": [
    "sns.violinplot(data=demo, y=\"DateDatabase\")"
   ]
  },
  {
   "cell_type": "code",
   "execution_count": null,
   "id": "2e53b682-eabe-439c-8854-24bd4ff2530b",
   "metadata": {},
   "outputs": [],
   "source": [
    "table.describe()"
   ]
  },
  {
   "cell_type": "code",
   "execution_count": null,
   "id": "dba4877f-219f-4f78-8f3e-c761637b74c4",
   "metadata": {},
   "outputs": [],
   "source": [
    "table.info()"
   ]
  },
  {
   "cell_type": "code",
   "execution_count": null,
   "id": "ca615e91-57c2-4180-a66c-ad489ff67fce",
   "metadata": {},
   "outputs": [],
   "source": [
    "table.duplicated().sum()"
   ]
  },
  {
   "cell_type": "code",
   "execution_count": null,
   "id": "1826b519-d1b6-4e50-bb4e-7149073847a6",
   "metadata": {},
   "outputs": [],
   "source": [
    "table.isnull()"
   ]
  },
  {
   "cell_type": "code",
   "execution_count": null,
   "id": "e969a6d0-6e5d-4366-9ef6-63ee3c9c520a",
   "metadata": {},
   "outputs": [],
   "source": [
    "tables[\"OUT\"][\"Serious\"].value_counts()"
   ]
  },
  {
   "cell_type": "code",
   "execution_count": null,
   "id": "4c02470d-0807-4ff3-a24b-8888bb071cdc",
   "metadata": {},
   "outputs": [],
   "source": [
    "tables[\"OUT\"][\"Seriousness\"].value_counts().sort_index()"
   ]
  },
  {
   "cell_type": "markdown",
   "id": "5f040c0e-aaa0-401c-991e-e30fcc006c67",
   "metadata": {},
   "source": [
    "\n",
    "# Weird... Not serious but 2 Deaths, 1 Life Threatening, and 1 Caused/Prolonged Hospitalization?"
   ]
  },
  {
   "cell_type": "code",
   "execution_count": null,
   "id": "ca377c88-6500-4352-8078-7ea6e5ff1f69",
   "metadata": {},
   "outputs": [],
   "source": [
    "test = out[out[\"Serious\"] == \"N\"].dropna()\n",
    "test[\"Seriousness\"] = test[\"Seriousness\"].astype(int)\n",
    "test[[\"UMCReportId\", \"Serious\", \"Seriousness\"]]"
   ]
  },
  {
   "cell_type": "code",
   "execution_count": null,
   "id": "19cc9a3e-360d-46f8-acaa-cee62e96fddf",
   "metadata": {},
   "outputs": [],
   "source": []
  },
  {
   "cell_type": "code",
   "execution_count": null,
   "id": "25c36df8-c148-4dec-9da4-fff6cc2a29c5",
   "metadata": {},
   "outputs": [],
   "source": [
    "out = tables[\"OUT\"]\n",
    "out[out[\"Serious\"] == \"N\"][\"Seriousness\"].value_counts().sort_index()"
   ]
  },
  {
   "cell_type": "markdown",
   "id": "524edda3-a0b4-4d01-a1fc-c4853f0bb5c1",
   "metadata": {},
   "source": []
  }
 ],
 "metadata": {
  "kernelspec": {
   "display_name": "databae",
   "language": "python",
   "name": "databae"
  },
  "language_info": {
   "codemirror_mode": {
    "name": "ipython",
    "version": 3
   },
   "file_extension": ".py",
   "mimetype": "text/x-python",
   "name": "python",
   "nbconvert_exporter": "python",
   "pygments_lexer": "ipython3",
   "version": "3.10.4"
  }
 },
 "nbformat": 4,
 "nbformat_minor": 5
}
