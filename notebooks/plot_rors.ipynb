{
 "cells": [
  {
   "cell_type": "code",
   "execution_count": null,
   "id": "1db5bb38",
   "metadata": {},
   "outputs": [],
   "source": [
    "import os\n",
    "from pathlib import Path\n",
    "\n",
    "import matplotlib.pyplot as plt\n",
    "import pandas as pd"
   ]
  },
  {
   "cell_type": "code",
   "execution_count": null,
   "id": "b8f7d19b",
   "metadata": {},
   "outputs": [],
   "source": []
  },
  {
   "cell_type": "code",
   "execution_count": null,
   "id": "115edbcd",
   "metadata": {},
   "outputs": [],
   "source": [
    "scores = pd.DataFrame(\n",
    "    {\n",
    "        \"Drug\": [\n",
    "            \"Thiopurines\",\"Thiopurines (Crohn's Disease)\", \"Thiopurines (Ulcerative colitis)\", \"Thiopurines (Rheumatologic conditions)\",\n",
    "             \"Azathioprine\", \"6-Mercaptopurine\", \"5-ASA\", \n",
    "            \"Infliximab\", \"Adalimumab\", \"Certolizumab\", \"Golimumab\", \"Vedolizumab\", \n",
    "            \"Ustekinumab\", \"Tofacitinib\"\n",
    "            ],\n",
    "        \"Events\": [1739, 543, 151, 66,\n",
    "        1488, 251, 791, 542, 906, 1, 48, 68, 72, 56],\n",
    "        \"ROR\": [18.22, 34.61, 8.94, 18.87,\n",
    "        19.18, 13.30, 17.44, 1.15, 0.62, 1.64, 0.57, 1.37, 0.88, 0.30],\n",
    "        \"95% CI low\": [17.36, 30.95, 7.47, 14.72,\n",
    "        18.21, 11.73, 16.24, 1.06, 0.58, 0.23, 0.43, 1.08, 0.7, 0.23],\n",
    "        \"95% CI high\": [19.12, 38.70, 10.71, 24.19,\n",
    "        20.2, 15.07, 18.72, 1.26, 0.66, 11.65, 0.75, 1.74, 1.11, 0.39],\n",
    "    }\n",
    ")\n",
    "scores\n",
    "\n",
    "scores.loc[:, \"95% CI low\"] =  scores.loc[:, \"ROR\"] - scores.loc[:, \"95% CI low\"] \n",
    "scores.loc[:, \"95% CI high\"] =  scores.loc[:, \"95% CI high\"] - scores.loc[:, \"ROR\"]\n",
    "\n",
    "# # scores_2 = pd.DataFrame(\n",
    "# #     {\n",
    "# #         \"Drug\": [\n",
    "# #         \"Events\": [\n",
    "# #         \"ROR\": [\n",
    "# #         \"95% CI low\": [\n",
    "# #         \"95% CI high\": [\n",
    "# #     }\n",
    "# # )\n",
    "# # scores_2\n",
    "\n",
    "# scores = pd.concat([scores_1, scores_2], axis=\"rows\", ignore_index=True)\n",
    "# # scores.sort_values(\"Drug\", inplace=True, ascending=False)\n",
    "\n",
    "scores.sort_index(ascending=False, inplace=True)\n",
    "scores.reset_index(inplace=True, drop=True)\n",
    "scores\n"
   ]
  },
  {
   "cell_type": "code",
   "execution_count": null,
   "id": "d7fc9ae3",
   "metadata": {},
   "outputs": [],
   "source": []
  },
  {
   "cell_type": "code",
   "execution_count": null,
   "id": "a346c94c",
   "metadata": {},
   "outputs": [],
   "source": []
  },
  {
   "cell_type": "code",
   "execution_count": null,
   "id": "8c183f5e",
   "metadata": {},
   "outputs": [],
   "source": []
  },
  {
   "cell_type": "code",
   "execution_count": null,
   "id": "99314da9",
   "metadata": {},
   "outputs": [],
   "source": []
  },
  {
   "cell_type": "code",
   "execution_count": null,
   "id": "aed87e5a",
   "metadata": {},
   "outputs": [],
   "source": [
    "scores"
   ]
  },
  {
   "cell_type": "code",
   "execution_count": null,
   "id": "7dcab256",
   "metadata": {},
   "outputs": [],
   "source": [
    "import numpy as np\n",
    "fig, ax = plt.subplots(figsize=(10, 10))\n",
    "# FILTER \n",
    "scores = scores[~scores[\"Drug\"].str.upper().str.contains(\"THIOPURINES\")]\n",
    "\n",
    "font = {\n",
    "    # 'family' : 'normal',\n",
    "        # 'weight' : 'bold',\n",
    "        'size'   : 14\n",
    "        }\n",
    "\n",
    "import matplotlib\n",
    "# matplotlib.rc().rese\n",
    "matplotlib.rc('font', **font)\n",
    "x = scores[\"ROR\"]\n",
    "y = scores.index * 0.2\n",
    "xerr = np.array([(lo, hi) for lo, hi in zip(scores[\"95% CI low\"], scores[\"95% CI high\"])]).T\n",
    "ax.errorbar(\n",
    "    x=x, \n",
    "    y=y,\n",
    "    xerr=xerr,\n",
    "    marker=\"o\",\n",
    "    ls=\"none\",\n",
    "    capsize=5,\n",
    "    # c=\"k\",\n",
    ")\n",
    "# ax.set_color\n",
    "ax.set_title(\"\")\n",
    "ax.set_xlabel(\"Reporting Odds Ratio (95% CI)\")\n",
    "\n",
    "ax.set_yticks(scores.index * 0.2, scores[\"Drug\"])\n",
    "ax.set_xscale(\"log\")\n",
    "plt.axvline(x=1, c=\"k\")\n",
    "\n",
    "ax.set_facecolor(\"lightgray\")\n",
    "\n",
    "ax.set_aspect(.3)\n",
    "\n",
    "# fig"
   ]
  },
  {
   "cell_type": "code",
   "execution_count": null,
   "id": "69311d48",
   "metadata": {},
   "outputs": [],
   "source": [
    "scores"
   ]
  },
  {
   "cell_type": "code",
   "execution_count": null,
   "id": "dfe70262",
   "metadata": {},
   "outputs": [],
   "source": [
    "fig.savefig(\"ror_scores.png\", dpi=100, bbox_inches='tight')"
   ]
  },
  {
   "cell_type": "code",
   "execution_count": null,
   "id": "36329c63",
   "metadata": {},
   "outputs": [],
   "source": []
  }
 ],
 "metadata": {
  "kernelspec": {
   "display_name": ".venv",
   "language": "python",
   "name": "python3"
  },
  "language_info": {
   "codemirror_mode": {
    "name": "ipython",
    "version": 3
   },
   "file_extension": ".py",
   "mimetype": "text/x-python",
   "name": "python",
   "nbconvert_exporter": "python",
   "pygments_lexer": "ipython3",
   "version": "3.10.4"
  }
 },
 "nbformat": 4,
 "nbformat_minor": 5
}
