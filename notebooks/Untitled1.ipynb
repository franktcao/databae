{
 "cells": [
  {
   "cell_type": "code",
   "execution_count": 40,
   "id": "a7996cc4-f674-4e6d-b31d-284db5fd2a6d",
   "metadata": {},
   "outputs": [],
   "source": [
    "table_one_backwards = \"\"\"\\\n",
    "* table<-CreateTableOne(vars = c(\"Region_reporting\",\"Clinical_trial_reporting\",\"Reporting_year\",\"Reporter_f\",\"Sex\",\"Age_at_onset\",\"Suspected_drugs\",\"Time_to_ADR_onset_days\",\"Severe_ADR\",\"Outcome_f\",\"Drug\"), data = all_drug_reaction_pairs_timeOnset_outcome_demo_drugRole_Table1)\n",
    "* all_drug_reaction_pairs_timeOnset_outcome_demo_Table1all_drug_reaction_pairs_timeOnset_outcome_demo_Table1%>%\n",
    "  left_join(drugs_per_report,by=\"UMCReportId\")%>%\n",
    "  mutate(reporter3=ifelse(reporter2 %in% c(\"Physician\",\"Other Health Professional\",\"Pharmacist\"),\"Health care professional\",\n",
    "                          ifelse(is.na(reporter2),NA,\"Nonhealth care professional\")))%>%\n",
    "  mutate(type3=ifelse(type2!='Report from study','Non-clinical trial reporting','Clinical trial reporting'))\n",
    "* all_drug_reaction_pairs_timeOnset_outcome_demo_Table1<-all_drug_reaction_pairs_timeOnset_outcome_demo_adt%>%\n",
    "  left_join(source,by=\"UMCReportId\")%>%\n",
    "  left_join(type,by=\"Type\")%>%\n",
    "  left_join(seriousness,by=\"Seriousness\")%>%\n",
    "  left_join(reporter,by=\"Reporter\")%>%\n",
    "  mutate(severity=ifelse(seriousness2 %in% \n",
    "                           c(\"Life threatening\",\"Disabling/Incapacitating\",\"Congenital anomaly/Birth defect\",\"Death\",\"Caused/Prolonged Hospitalization\"),\"severe\",ifelse(seriousness2=='Other','Non-severe',NA)))\n",
    "* all_drug_reaction_pairs_timeOnset_outcome_demo_adt<-all_drug_reaction_pairs_timeOnset_outcome_demo%>%\n",
    "  left_join(out,by=\"UMCReportId\")%>%\n",
    "  mutate(Seriousness=ifelse(Seriousness!=\"- \",as.numeric(Seriousness),\"-\"),\n",
    "         age3=ifelse(age2 %in% c(\"10-27 days\",\"228 days to 23 months\",\"12-17\",\"2-11\"),\"<18\",as.character(age2)),\n",
    "         outcome2=ifelse(Outcome %in% c(5,7,8),\"Fatal\",ifelse(Outcome %in% c(1,2,3,4),\"NonFatal\",ifelse(Outcome==6,'Unknown','-'))))\n",
    "* all_drug_reaction_pairs_timeOnset_outcome_demo<-all_drug_reaction_pairs_timeOnset_outcome_demo%>%\n",
    "  #filter(gender2=='Male')%>%\n",
    "  mutate(age3=ifelse(age2 %in% c(\"10-27 days\",\"228 days to 23 months\",\"12-17\",\"2-11\"),\"<18\",as.character(age2)))%>%\n",
    "  left_join(outcome,by=\"Outcome\")\n",
    "* all_drug_reaction_pairs_timeOnset_outcome_demo<-all_drug_reaction_pairs_timeOnset_outcome%>%\n",
    "  inner_join(demo_f,by=\"UMCReportId\")%>%\n",
    "  inner_join(drug_f,by=c(\"UMCReportId\",\"Drug_Id\"))\n",
    "* all_drug_reaction_pairs_timeOnset_outcome<-all_drug_reaction_pairs_timeOnset%>%\n",
    "  left_join(adr_red,by=c(\"UMCReportId\",\"MedDRA_Id\",\"Adr_Id\"))\n",
    "* all_drug_reaction_pairs_timeOnset<-all_drug_reaction_pairs_f_red%>%left_join(link_final_red,by=c(\"Adr_Id\",\"Drug_Id\"))\n",
    "* all_drug_reaction_pairs_f_red<-all_drug_reaction_pairs%>%\n",
    "  filter(DrecNo==13675 & PT %in% melanoma_pt$PT)%>%\n",
    "  distinct(UMCReportId,DrecNo,PT,.keep_all=TRUE)\n",
    "* load(file=\"C:/Users/mdlab/OneDrive - Mass General Brigham/Vigibase/Finasteride & Sexual Dysfunction/all_drug_reaction_pairs.RData\")\n",
    "\"\"\""
   ]
  },
  {
   "cell_type": "code",
   "execution_count": 45,
   "id": "39611fad-ff4f-4ee0-9ca6-6e651d681ce7",
   "metadata": {},
   "outputs": [
    {
     "name": "stdout",
     "output_type": "stream",
     "text": [
      "load(file=\"C:/Users/mdlab/OneDrive - Mass General Brigham/Vigibase/Finasteride & Sexual Dysfunction/all_drug_reaction_pairs.RData\")\n",
      "all_drug_reaction_pairs_f_red<-all_drug_reaction_pairs%>%\n",
      "  filter(DrecNo==13675 & PT %in% melanoma_pt$PT)%>%\n",
      "  distinct(UMCReportId,DrecNo,PT,.keep_all=TRUE)\n",
      "\n",
      "all_drug_reaction_pairs_timeOnset<-all_drug_reaction_pairs_f_red%>%left_join(link_final_red,by=c(\"Adr_Id\",\"Drug_Id\"))\n",
      "\n",
      "all_drug_reaction_pairs_timeOnset_outcome<-all_drug_reaction_pairs_timeOnset%>%\n",
      "  left_join(adr_red,by=c(\"UMCReportId\",\"MedDRA_Id\",\"Adr_Id\"))\n",
      "\n",
      "all_drug_reaction_pairs_timeOnset_outcome_demo<-all_drug_reaction_pairs_timeOnset_outcome%>%\n",
      "  inner_join(demo_f,by=\"UMCReportId\")%>%\n",
      "  inner_join(drug_f,by=c(\"UMCReportId\",\"Drug_Id\"))\n",
      "\n",
      "all_drug_reaction_pairs_timeOnset_outcome_demo<-all_drug_reaction_pairs_timeOnset_outcome_demo%>%\n",
      "  #filter(gender2=='Male')%>%\n",
      "  mutate(age3=ifelse(age2 %in% c(\"10-27 days\",\"228 days to 23 months\",\"12-17\",\"2-11\"),\"<18\",as.character(age2)))%>%\n",
      "  left_join(outcome,by=\"Outcome\")\n",
      "\n",
      "all_drug_reaction_pairs_timeOnset_outcome_demo_adt<-all_drug_reaction_pairs_timeOnset_outcome_demo%>%\n",
      "  left_join(out,by=\"UMCReportId\")%>%\n",
      "  mutate(Seriousness=ifelse(Seriousness!=\"- \",as.numeric(Seriousness),\"-\"),\n",
      "         age3=ifelse(age2 %in% c(\"10-27 days\",\"228 days to 23 months\",\"12-17\",\"2-11\"),\"<18\",as.character(age2)),\n",
      "         outcome2=ifelse(Outcome %in% c(5,7,8),\"Fatal\",ifelse(Outcome %in% c(1,2,3,4),\"NonFatal\",ifelse(Outcome==6,'Unknown','-'))))\n",
      "\n",
      "all_drug_reaction_pairs_timeOnset_outcome_demo_Table1<-all_drug_reaction_pairs_timeOnset_outcome_demo_adt%>%\n",
      "  left_join(source,by=\"UMCReportId\")%>%\n",
      "  left_join(type,by=\"Type\")%>%\n",
      "  left_join(seriousness,by=\"Seriousness\")%>%\n",
      "  left_join(reporter,by=\"Reporter\")%>%\n",
      "  mutate(severity=ifelse(seriousness2 %in% \n",
      "                           c(\"Life threatening\",\"Disabling/Incapacitating\",\"Congenital anomaly/Birth defect\",\"Death\",\"Caused/Prolonged Hospitalization\"),\"severe\",ifelse(seriousness2=='Other','Non-severe',NA)))\n",
      "\n",
      "all_drug_reaction_pairs_timeOnset_outcome_demo_Table1all_drug_reaction_pairs_timeOnset_outcome_demo_Table1%>%\n",
      "  left_join(drugs_per_report,by=\"UMCReportId\")%>%\n",
      "  mutate(reporter3=ifelse(reporter2 %in% c(\"Physician\",\"Other Health Professional\",\"Pharmacist\"),\"Health care professional\",\n",
      "                          ifelse(is.na(reporter2),NA,\"Nonhealth care professional\")))%>%\n",
      "  mutate(type3=ifelse(type2!='Report from study','Non-clinical trial reporting','Clinical trial reporting'))\n",
      "\n",
      "table<-CreateTableOne(vars = c(\"Region_reporting\",\"Clinical_trial_reporting\",\"Reporting_year\",\"Reporter_f\",\"Sex\",\"Age_at_onset\",\"Suspected_drugs\",\"Time_to_ADR_onset_days\",\"Severe_ADR\",\"Outcome_f\",\"Drug\"), data = all_drug_reaction_pairs_timeOnset_outcome_demo_drugRole_Table1)\n",
      "\n",
      "\n"
     ]
    }
   ],
   "source": [
    "# table_one_backwards.replace(\"\\n\", \"\").split(\"*\")[0]\n",
    "for a in reversed(table_one_backwards.strip(\"\\n\").split(\"* \")):\n",
    "  print(a)"
   ]
  },
  {
   "cell_type": "code",
   "execution_count": null,
   "id": "f626538a-ab1f-4187-97c1-d24ad06422bb",
   "metadata": {},
   "outputs": [],
   "source": []
  }
 ],
 "metadata": {
  "kernelspec": {
   "display_name": "databae",
   "language": "python",
   "name": "databae"
  },
  "language_info": {
   "codemirror_mode": {
    "name": "ipython",
    "version": 3
   },
   "file_extension": ".py",
   "mimetype": "text/x-python",
   "name": "python",
   "nbconvert_exporter": "python",
   "pygments_lexer": "ipython3",
   "version": "3.10.4 (main, Jun 18 2022, 16:46:10) [Clang 13.1.6 (clang-1316.0.21.2.5)]"
  }
 },
 "nbformat": 4,
 "nbformat_minor": 5
}
