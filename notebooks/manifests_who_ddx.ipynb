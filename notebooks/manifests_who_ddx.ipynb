{
 "cells": [
  {
   "cell_type": "code",
   "execution_count": null,
   "id": "2e1ac9e0-c699-4f7b-9af6-553e6e6b88dd",
   "metadata": {},
   "outputs": [],
   "source": [
    "import numpy as np\n",
    "import os\n",
    "import pandas as pd\n",
    "from pathlib import Path\n",
    "import pandas as pd\n",
    "\n",
    "ROOT_DIR = Path.cwd().parent\n",
    "DATA_DIR = ROOT_DIR / \"data\" \n",
    "MANIFEST_DATA_DIR = DATA_DIR / \"manifest\" / \"who_ddx\"\n",
    "RAW_DATA_DIR = DATA_DIR / \"raw\"\n",
    "CSV_DATA_DIR = DATA_DIR / \"to_csv\"\n",
    "TXT_DATA_DIR = RAW_DATA_DIR / \"20210901\"\n",
    "MAIN_TXT_DATA_DIR = TXT_DATA_DIR / \"main\"\n",
    "\n",
    "Path.mkdir(MANIFEST_DATA_DIR)"
   ]
  },
  {
   "cell_type": "markdown",
   "id": "5ee3a4ff-36c0-4ec0-9158-b2cb1c0c3df3",
   "metadata": {},
   "source": [
    "# Purpose\n",
    "(Step 0.) Transcribe the file description (see `docs/Format_C3-File_Diagram.pdf`) into tables to read in the text files line by line"
   ]
  },
  {
   "cell_type": "code",
   "execution_count": null,
   "id": "1c933462-ce43-4783-a045-3c431daa3b0d",
   "metadata": {},
   "outputs": [],
   "source": [
    "manifest_mp = pd.DataFrame(\n",
    "    [\n",
    "       (\"Medicinalprod_Id\", str, 10, 1, 10, \"Medicinal Product idenfier\"),\n",
    "       (\"MedID\", str, 35, 11, 45, \"'Not used'\"),\n",
    "       (\"Drug record number\", str, 6, 46, 51, \"\"),\n",
    "       (\"Sequence number 1\", str, 2, 52, 53, \"\"),\n",
    "       (\"Sequence number 2\", str, 3, 54, 56, \"\"),\n",
    "       (\"Sequence number 3\", str, 10, 57, 66, \"\"),\n",
    "       (\"Sequence number 4\", str, 10, 67, 76, \"\"),\n",
    "       (\"Generic\", str, 1, 77, 77, \"Y or N\"),\n",
    "       (\"Drug name\", str, 1500, 78, 1577, \"\"),\n",
    "       (\"Name specifier\", str, 30, 1578, 1607, \"\"),\n",
    "       (\"Marketing Authorization Number\", str, 30, 1608, 1637, \"'Not used'\"),\n",
    "       (\"Marketing Authorization Date\", str, 8, 1638, 1645, \"'Not used'\"),\n",
    "       (\"Marketing Authorization Withdrawal Date\", str, 8, 1646, 1653, \"'Not used'\"),\n",
    "       (\"Country\", str, 10, 1654, 1663, \"CCODE. Country code Marketing country. A 3-character code based on standard ISO 3166-1, alpha-3\"),\n",
    "       (\"Company\", str, 10, 1664, 1673, \"ORG.Organization_Id.\"),\n",
    "       (\"Marketing Authorization Holder\", str, 10, 1674, 1683, \"ORG.Organization_Id.\"),\n",
    "       (\"Reference code\", str, 10, 1684, 1693, \"SRCE.Reference code\"),\n",
    "       (\"Source country\", str, 10, 1694, 1703, \"CCODE. Country code.\"),\n",
    "       (\"Year of Reference\", str, 3, 1704, 1706, \"\"),\n",
    "       (\"Product type\", str, 10, 1707, 1716, \"PRT.Prodtype_Id.\"),\n",
    "       (\"Product group\", str, 10, 1717, 1726, \"PRG.Productgroup_Id.\"),\n",
    "       (\"Create date\", str, 8, 1727, 1734, \"\"),\n",
    "       (\"Date changed\", str, 8, 1735, 1742, \"\"),\n",
    "    ],\n",
    "  columns = [\"column_name\", \"dtype\", \"number_of_chars\", \"char_position_start\", \"char_position_end\", \"notes\"]\n",
    ")\n",
    "manifest_mp"
   ]
  },
  {
   "cell_type": "code",
   "execution_count": null,
   "id": "60cbdd20-f5d2-4ed4-a775-13e41ab497cc",
   "metadata": {},
   "outputs": [],
   "source": [
    "manifest_mp.to_csv(MANIFEST_DATA_DIR / \"MP.csv\")"
   ]
  },
  {
   "cell_type": "code",
   "execution_count": null,
   "id": "1878b55a-b91a-4bd2-8dc4-26b8bc3e5935",
   "metadata": {},
   "outputs": [],
   "source": []
  }
 ],
 "metadata": {
  "kernelspec": {
   "display_name": "databae",
   "language": "python",
   "name": "databae"
  },
  "language_info": {
   "codemirror_mode": {
    "name": "ipython",
    "version": 3
   },
   "file_extension": ".py",
   "mimetype": "text/x-python",
   "name": "python",
   "nbconvert_exporter": "python",
   "pygments_lexer": "ipython3",
   "version": "3.10.4"
  }
 },
 "nbformat": 4,
 "nbformat_minor": 5
}
