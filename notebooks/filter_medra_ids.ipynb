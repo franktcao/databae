{
 "cells": [
  {
   "cell_type": "markdown",
   "id": "49c3144a-be01-44b6-8482-f6c8763f4706",
   "metadata": {},
   "source": [
    "# Purpose\n",
    "(Step 3.) Filter data to focus on relevant subset"
   ]
  },
  {
   "cell_type": "code",
   "execution_count": 5,
   "id": "749d0814",
   "metadata": {},
   "outputs": [],
   "source": [
    "import os\n",
    "from pathlib import Path\n",
    "\n",
    "import numpy as np\n",
    "import pandas as pd\n",
    "import seaborn as sns\n",
    "from tqdm.notebook import tqdm"
   ]
  },
  {
   "cell_type": "code",
   "execution_count": 6,
   "id": "ed4897e8",
   "metadata": {},
   "outputs": [],
   "source": [
    "ROOT_DIR = Path.cwd().parent\n",
    "DATA_DIR = ROOT_DIR / \"data\" \n",
    "RAW_DATA_DIR = DATA_DIR / \"raw\"\n",
    "CSV_DATA_DIR = DATA_DIR / \"to_csv\"\n",
    "FILTERED_DATA_DIR = DATA_DIR / \"filtered\"\n",
    "TXT_DATA_DIR = RAW_DATA_DIR / \"20210901\"\n",
    "MAIN_TXT_DATA_DIR = TXT_DATA_DIR / \"main\""
   ]
  },
  {
   "cell_type": "markdown",
   "id": "6f2e13f1",
   "metadata": {},
   "source": [
    "# Look at particular MedDRA IDs related to pancreatitis\n",
    "Search for pancreatitis in ... \n",
    "Nevermind, this list was sent to me."
   ]
  },
  {
   "cell_type": "code",
   "execution_count": 66,
   "id": "f509f71e",
   "metadata": {},
   "outputs": [
    {
     "data": {
      "text/plain": [
       "33"
      ]
     },
     "execution_count": 66,
     "metadata": {},
     "output_type": "execute_result"
    }
   ],
   "source": [
    "meddra_id_pancreatitis = [\n",
    "  \"10076058\",\n",
    "  \"10076059\",\n",
    "  \"10033588\",\n",
    "  \"10033626\",\n",
    "  \"10033625\",\n",
    "  \"10071853\",\n",
    "  \"10055312\",\n",
    "  \"10058096\",\n",
    "  \"10055858\",\n",
    "  \"10033672\",\n",
    "  \"10019607\",\n",
    "  \"10073794\",\n",
    "  \"10033650\",\n",
    "  \"10033651\",\n",
    "  \"10056219\",\n",
    "  \"10028891\",\n",
    "  \"10033654\",\n",
    "  \"10033655\",\n",
    "  \"10054706\",\n",
    "  \"10052400\",\n",
    "  \"10033635\",\n",
    "  \"10059155\",\n",
    "  \"10076039\",\n",
    "  \"10033645\",\n",
    "  \"10048365\",\n",
    "  \"10033656\",\n",
    "  \"10033658\",\n",
    "  \"110067190\",\n",
    "  \"10000971\",\n",
    "  \"10033647\",\n",
    "  \"10033648\",\n",
    "  \"10066715\",\n",
    "  \"10033657\",\n",
    "]\n",
    "len(meddra_id_pancreatitis)"
   ]
  },
  {
   "cell_type": "code",
   "execution_count": 67,
   "id": "1dd40ee6",
   "metadata": {},
   "outputs": [],
   "source": [
    "# import yaml"
   ]
  },
  {
   "cell_type": "markdown",
   "id": "48407a91",
   "metadata": {},
   "source": [
    "# Force into ints since they're inferred when pulling in the ADR table"
   ]
  },
  {
   "cell_type": "code",
   "execution_count": 68,
   "id": "49cd0993",
   "metadata": {},
   "outputs": [],
   "source": [
    "meddra_id_pancreatitis = [int(meddra_id) for meddra_id in meddra_id_pancreatitis]"
   ]
  },
  {
   "cell_type": "code",
   "execution_count": null,
   "id": "9618096c",
   "metadata": {},
   "outputs": [],
   "source": []
  },
  {
   "cell_type": "code",
   "execution_count": 7,
   "id": "8bf24537",
   "metadata": {},
   "outputs": [
    {
     "name": "stdout",
     "output_type": "stream",
     "text": [
      "66802344\n"
     ]
    },
    {
     "data": {
      "text/html": [
       "<div>\n",
       "<style scoped>\n",
       "    .dataframe tbody tr th:only-of-type {\n",
       "        vertical-align: middle;\n",
       "    }\n",
       "\n",
       "    .dataframe tbody tr th {\n",
       "        vertical-align: top;\n",
       "    }\n",
       "\n",
       "    .dataframe thead th {\n",
       "        text-align: right;\n",
       "    }\n",
       "</style>\n",
       "<table border=\"1\" class=\"dataframe\">\n",
       "  <thead>\n",
       "    <tr style=\"text-align: right;\">\n",
       "      <th></th>\n",
       "      <th>UMCReportId</th>\n",
       "      <th>Adr_Id</th>\n",
       "      <th>MedDRA_Id</th>\n",
       "      <th>Outcome</th>\n",
       "    </tr>\n",
       "  </thead>\n",
       "  <tbody>\n",
       "    <tr>\n",
       "      <th>0</th>\n",
       "      <td>34777001</td>\n",
       "      <td>15</td>\n",
       "      <td>10012578</td>\n",
       "      <td>1.0</td>\n",
       "    </tr>\n",
       "    <tr>\n",
       "      <th>1</th>\n",
       "      <td>34776971</td>\n",
       "      <td>27</td>\n",
       "      <td>10053762</td>\n",
       "      <td>6.0</td>\n",
       "    </tr>\n",
       "    <tr>\n",
       "      <th>2</th>\n",
       "      <td>34776965</td>\n",
       "      <td>5</td>\n",
       "      <td>10019211</td>\n",
       "      <td>6.0</td>\n",
       "    </tr>\n",
       "  </tbody>\n",
       "</table>\n",
       "</div>"
      ],
      "text/plain": [
       "   UMCReportId  Adr_Id  MedDRA_Id  Outcome\n",
       "0     34777001      15   10012578      1.0\n",
       "1     34776971      27   10053762      6.0\n",
       "2     34776965       5   10019211      6.0"
      ]
     },
     "execution_count": 7,
     "metadata": {},
     "output_type": "execute_result"
    }
   ],
   "source": [
    "table_name = \"ADR\"\n",
    "adr = pd.read_csv(CSV_DATA_DIR / f\"{table_name}.csv\", index_col=0, na_values=\"-\")\n",
    "print(len(adr))\n",
    "adr.head(3)"
   ]
  },
  {
   "cell_type": "code",
   "execution_count": 70,
   "id": "e22283d1",
   "metadata": {},
   "outputs": [
    {
     "data": {
      "text/plain": [
       "UMCReportId      int64\n",
       "Adr_Id           int64\n",
       "MedDRA_Id        int64\n",
       "Outcome        float64\n",
       "dtype: object"
      ]
     },
     "execution_count": 70,
     "metadata": {},
     "output_type": "execute_result"
    }
   ],
   "source": [
    "adr.dtypes"
   ]
  },
  {
   "cell_type": "markdown",
   "id": "f9e60783",
   "metadata": {},
   "source": [
    "# Filter ADR by MedDRA IDs we're interested in"
   ]
  },
  {
   "cell_type": "code",
   "execution_count": 71,
   "id": "29180910",
   "metadata": {},
   "outputs": [
    {
     "name": "stdout",
     "output_type": "stream",
     "text": [
      "72851\n"
     ]
    }
   ],
   "source": [
    "adr = adr[adr[\"MedDRA_Id\"].isin(meddra_id_pancreatitis)]\n",
    "print(len(adr))\n",
    "adr.head(3)\n",
    "adr.to_csv(FILTERED_DATA_DIR / \"ADR.csv\")"
   ]
  },
  {
   "cell_type": "markdown",
   "id": "5bbe6064",
   "metadata": {},
   "source": [
    "# Find unique patients with some form of pancreatitis"
   ]
  },
  {
   "cell_type": "code",
   "execution_count": 72,
   "id": "70c9dc6e",
   "metadata": {},
   "outputs": [
    {
     "data": {
      "text/plain": [
       "72851"
      ]
     },
     "execution_count": 72,
     "metadata": {},
     "output_type": "execute_result"
    }
   ],
   "source": [
    "len(adr[\"UMCReportId\"])"
   ]
  },
  {
   "cell_type": "code",
   "execution_count": 73,
   "id": "df512df6",
   "metadata": {},
   "outputs": [
    {
     "data": {
      "text/plain": [
       "71182"
      ]
     },
     "execution_count": 73,
     "metadata": {},
     "output_type": "execute_result"
    }
   ],
   "source": [
    "len(adr[\"UMCReportId\"].unique())"
   ]
  },
  {
   "cell_type": "code",
   "execution_count": 74,
   "id": "ea2b6a44",
   "metadata": {},
   "outputs": [
    {
     "data": {
      "text/plain": [
       "array([14226956,  4742330,  4742361, ...,  9483763,  9484075,  9484617])"
      ]
     },
     "execution_count": 74,
     "metadata": {},
     "output_type": "execute_result"
    }
   ],
   "source": [
    "umc_report_id_pancreatitis = adr[\"UMCReportId\"].unique()\n",
    "umc_report_id_pancreatitis"
   ]
  },
  {
   "cell_type": "markdown",
   "id": "1ad79543",
   "metadata": {},
   "source": [
    "# Also look at patients that followed up or changed/updated their UMC Report ID"
   ]
  },
  {
   "cell_type": "code",
   "execution_count": 75,
   "id": "9b8414d1",
   "metadata": {},
   "outputs": [
    {
     "name": "stdout",
     "output_type": "stream",
     "text": [
      "FOLLOWUP counts\n",
      "\tbefore: 7,759,897\n",
      "\tafter: 33,661\n"
     ]
    }
   ],
   "source": [
    "table_name = \"FOLLOWUP\"\n",
    "followup = pd.read_csv(CSV_DATA_DIR / f\"{table_name}.csv\", index_col=0, na_values=\"-\")\n",
    "print(table_name, \"counts\")\n",
    "print(\"\\tbefore:\", f\"{len(followup):,}\")\n",
    "followup = followup[followup[\"UMCReportId\"].isin(umc_report_id_pancreatitis)]\n",
    "print(\"\\tafter:\", f\"{len(followup):,}\")"
   ]
  },
  {
   "cell_type": "code",
   "execution_count": 76,
   "id": "de3f3619",
   "metadata": {},
   "outputs": [],
   "source": [
    "followup\n",
    "new_umc_report_id_pancreatitis = followup[\"ReplacedUMCReportId\"].unique().tolist()\n",
    "# # print(len(followup[\"ReplacedUMCReportId\"]))\n",
    "# # print(len(followup[\"ReplacedUMCReportId\"].unique()))\n",
    "# umc_report_id_pancreatitis += "
   ]
  },
  {
   "cell_type": "code",
   "execution_count": 77,
   "id": "7d8ac75a",
   "metadata": {},
   "outputs": [],
   "source": [
    "# print(new_umc_report_id_pancreatitis)\n",
    "# print(umc_report_id_pancreatitis.tolist())\n",
    "\n",
    "umc_report_id_pancreatitis = umc_report_id_pancreatitis.tolist() + followup[\"ReplacedUMCReportId\"].unique().tolist()"
   ]
  },
  {
   "cell_type": "markdown",
   "id": "0e240444",
   "metadata": {},
   "source": [
    "# Filter tables to only have these pancreatitis patients"
   ]
  },
  {
   "cell_type": "code",
   "execution_count": 9,
   "id": "0f5ea49f",
   "metadata": {},
   "outputs": [],
   "source": [
    "table_names = [\n",
    "  \"ADR\",\n",
    "  \"DEMO\",\n",
    "  \"DRUG\",\n",
    "  \"FOLLOWUP\",\n",
    "  # \"IND\",\n",
    "  # \"LINK\",\n",
    "  \"OUT\",\n",
    "  \"SRCE\",\n",
    "]"
   ]
  },
  {
   "cell_type": "code",
   "execution_count": 10,
   "id": "9b5dfa53",
   "metadata": {},
   "outputs": [
    {
     "name": "stdout",
     "output_type": "stream",
     "text": [
      "ADR counts\n",
      "\tbefore: 66,802,344\n"
     ]
    },
    {
     "ename": "NameError",
     "evalue": "name 'umc_report_id_pancreatitis' is not defined",
     "output_type": "error",
     "traceback": [
      "\u001b[0;31m---------------------------------------------------------------------------\u001b[0m",
      "\u001b[0;31mNameError\u001b[0m                                 Traceback (most recent call last)",
      "Input \u001b[0;32mIn [10]\u001b[0m, in \u001b[0;36m<cell line: 1>\u001b[0;34m()\u001b[0m\n\u001b[1;32m      3\u001b[0m \u001b[38;5;28mprint\u001b[39m(table, \u001b[38;5;124m\"\u001b[39m\u001b[38;5;124mcounts\u001b[39m\u001b[38;5;124m\"\u001b[39m)\n\u001b[1;32m      5\u001b[0m \u001b[38;5;28mprint\u001b[39m(\u001b[38;5;124m\"\u001b[39m\u001b[38;5;130;01m\\t\u001b[39;00m\u001b[38;5;124mbefore:\u001b[39m\u001b[38;5;124m\"\u001b[39m, \u001b[38;5;124mf\u001b[39m\u001b[38;5;124m\"\u001b[39m\u001b[38;5;132;01m{\u001b[39;00m\u001b[38;5;28mlen\u001b[39m(df)\u001b[38;5;132;01m:\u001b[39;00m\u001b[38;5;124m,\u001b[39m\u001b[38;5;132;01m}\u001b[39;00m\u001b[38;5;124m\"\u001b[39m)\n\u001b[0;32m----> 6\u001b[0m df \u001b[38;5;241m=\u001b[39m df[df[\u001b[38;5;124m\"\u001b[39m\u001b[38;5;124mUMCReportId\u001b[39m\u001b[38;5;124m\"\u001b[39m]\u001b[38;5;241m.\u001b[39misin(\u001b[43mumc_report_id_pancreatitis\u001b[49m)]\n\u001b[1;32m      7\u001b[0m \u001b[38;5;28mprint\u001b[39m(\u001b[38;5;124m\"\u001b[39m\u001b[38;5;130;01m\\t\u001b[39;00m\u001b[38;5;124mafter:\u001b[39m\u001b[38;5;124m\"\u001b[39m, \u001b[38;5;124mf\u001b[39m\u001b[38;5;124m\"\u001b[39m\u001b[38;5;132;01m{\u001b[39;00m\u001b[38;5;28mlen\u001b[39m(df)\u001b[38;5;132;01m:\u001b[39;00m\u001b[38;5;124m,\u001b[39m\u001b[38;5;132;01m}\u001b[39;00m\u001b[38;5;124m\"\u001b[39m)\n\u001b[1;32m      8\u001b[0m df\u001b[38;5;241m.\u001b[39mto_csv(FILTERED_DATA_DIR \u001b[38;5;241m/\u001b[39m \u001b[38;5;124mf\u001b[39m\u001b[38;5;124m\"\u001b[39m\u001b[38;5;132;01m{\u001b[39;00mtable\u001b[38;5;132;01m}\u001b[39;00m\u001b[38;5;124m.csv\u001b[39m\u001b[38;5;124m\"\u001b[39m)\n",
      "\u001b[0;31mNameError\u001b[0m: name 'umc_report_id_pancreatitis' is not defined"
     ]
    }
   ],
   "source": [
    "for table in table_names:\n",
    "  df = pd.read_csv(CSV_DATA_DIR / f\"{table}.csv\", index_col=0, na_values=\"-\")\n",
    "  print(table, \"counts\")\n",
    "  \n",
    "  print(\"\\tbefore:\", f\"{len(df):,}\")\n",
    "  df = df[df[\"UMCReportId\"].isin(umc_report_id_pancreatitis)]\n",
    "  print(\"\\tafter:\", f\"{len(df):,}\")\n",
    "  df.to_csv(FILTERED_DATA_DIR / f\"{table}.csv\")"
   ]
  },
  {
   "cell_type": "code",
   "execution_count": 80,
   "id": "92eb14b9",
   "metadata": {},
   "outputs": [
    {
     "data": {
      "text/plain": [
       "104843"
      ]
     },
     "execution_count": 80,
     "metadata": {},
     "output_type": "execute_result"
    }
   ],
   "source": [
    "len(umc_report_id_pancreatitis)"
   ]
  },
  {
   "cell_type": "code",
   "execution_count": 81,
   "id": "60e0fee8",
   "metadata": {},
   "outputs": [
    {
     "name": "stdout",
     "output_type": "stream",
     "text": [
      "ADR counts\n",
      "\tbefore: 66,802,344\n",
      "\tafter: 257,645\n",
      "DEMO counts\n",
      "\tbefore: 27,213,386\n",
      "\tafter: 71,182\n"
     ]
    },
    {
     "name": "stderr",
     "output_type": "stream",
     "text": [
      "/var/folders/xb/j24pcj0541l061x4stbhr1p40000gn/T/ipykernel_14837/917182242.py:2: DtypeWarning: Columns (6) have mixed types. Specify dtype option on import or set low_memory=False.\n",
      "  df = pd.read_csv(CSV_DATA_DIR / f\"{table}.csv\", index_col=0, na_values=\"-\")\n"
     ]
    },
    {
     "name": "stdout",
     "output_type": "stream",
     "text": [
      "DRUG counts\n",
      "\tbefore: 71,006,811\n",
      "\tafter: 291,734\n",
      "FOLLOWUP counts\n",
      "\tbefore: 7,759,897\n",
      "\tafter: 33,661\n",
      "OUT counts\n",
      "\tbefore: 22,677,257\n",
      "\tafter: 58,674\n",
      "SRCE counts\n",
      "\tbefore: 21,105,031\n",
      "\tafter: 59,438\n"
     ]
    }
   ],
   "source": [
    "for table in table_names:\n",
    "  df = pd.read_csv(CSV_DATA_DIR / f\"{table}.csv\", index_col=0, na_values=\"-\")\n",
    "  print(table, \"counts\")\n",
    "  print(\"\\tbefore:\", f\"{len(df):,}\")\n",
    "  df = df[df[\"UMCReportId\"].isin(umc_report_id_pancreatitis)]\n",
    "  print(\"\\tafter:\", f\"{len(df):,}\")\n",
    "  df.to_csv(FILTERED_DATA_DIR / f\"{table}.csv\")"
   ]
  },
  {
   "cell_type": "markdown",
   "id": "274bfcdf",
   "metadata": {},
   "source": [
    "# Filter tables where the identifier is the drug ID, using only drugs used for the pancreatitis patients"
   ]
  },
  {
   "cell_type": "code",
   "execution_count": 82,
   "id": "e05d73d6",
   "metadata": {},
   "outputs": [
    {
     "data": {
      "text/html": [
       "<div>\n",
       "<style scoped>\n",
       "    .dataframe tbody tr th:only-of-type {\n",
       "        vertical-align: middle;\n",
       "    }\n",
       "\n",
       "    .dataframe tbody tr th {\n",
       "        vertical-align: top;\n",
       "    }\n",
       "\n",
       "    .dataframe thead th {\n",
       "        text-align: right;\n",
       "    }\n",
       "</style>\n",
       "<table border=\"1\" class=\"dataframe\">\n",
       "  <thead>\n",
       "    <tr style=\"text-align: right;\">\n",
       "      <th></th>\n",
       "      <th>UMCReportId</th>\n",
       "      <th>Drug_Id</th>\n",
       "      <th>MedicinalProd_Id</th>\n",
       "      <th>DrecNo</th>\n",
       "      <th>Seq1</th>\n",
       "      <th>Seq2</th>\n",
       "      <th>Route</th>\n",
       "      <th>Basis</th>\n",
       "      <th>Amount</th>\n",
       "      <th>AmountU</th>\n",
       "      <th>Frequency</th>\n",
       "      <th>FrequencyU</th>\n",
       "    </tr>\n",
       "  </thead>\n",
       "  <tbody>\n",
       "    <tr>\n",
       "      <th>1003</th>\n",
       "      <td>14226956</td>\n",
       "      <td>1010</td>\n",
       "      <td>1510210</td>\n",
       "      <td>57100</td>\n",
       "      <td>2</td>\n",
       "      <td>002</td>\n",
       "      <td>48.0</td>\n",
       "      <td>1.0</td>\n",
       "      <td>NaN</td>\n",
       "      <td>NaN</td>\n",
       "      <td>NaN</td>\n",
       "      <td>NaN</td>\n",
       "    </tr>\n",
       "    <tr>\n",
       "      <th>1397</th>\n",
       "      <td>4742330</td>\n",
       "      <td>1394</td>\n",
       "      <td>6547</td>\n",
       "      <td>286</td>\n",
       "      <td>1</td>\n",
       "      <td>001</td>\n",
       "      <td>NaN</td>\n",
       "      <td>2.0</td>\n",
       "      <td>NaN</td>\n",
       "      <td>NaN</td>\n",
       "      <td>NaN</td>\n",
       "      <td>804.0</td>\n",
       "    </tr>\n",
       "    <tr>\n",
       "      <th>1398</th>\n",
       "      <td>4742330</td>\n",
       "      <td>1397</td>\n",
       "      <td>16828</td>\n",
       "      <td>1462</td>\n",
       "      <td>1</td>\n",
       "      <td>007</td>\n",
       "      <td>NaN</td>\n",
       "      <td>2.0</td>\n",
       "      <td>NaN</td>\n",
       "      <td>NaN</td>\n",
       "      <td>NaN</td>\n",
       "      <td>804.0</td>\n",
       "    </tr>\n",
       "    <tr>\n",
       "      <th>1399</th>\n",
       "      <td>4742330</td>\n",
       "      <td>1398</td>\n",
       "      <td>15060</td>\n",
       "      <td>1138</td>\n",
       "      <td>1</td>\n",
       "      <td>001</td>\n",
       "      <td>NaN</td>\n",
       "      <td>2.0</td>\n",
       "      <td>NaN</td>\n",
       "      <td>NaN</td>\n",
       "      <td>NaN</td>\n",
       "      <td>804.0</td>\n",
       "    </tr>\n",
       "    <tr>\n",
       "      <th>1400</th>\n",
       "      <td>4742330</td>\n",
       "      <td>1400</td>\n",
       "      <td>9014</td>\n",
       "      <td>447</td>\n",
       "      <td>1</td>\n",
       "      <td>001</td>\n",
       "      <td>NaN</td>\n",
       "      <td>2.0</td>\n",
       "      <td>NaN</td>\n",
       "      <td>NaN</td>\n",
       "      <td>NaN</td>\n",
       "      <td>804.0</td>\n",
       "    </tr>\n",
       "    <tr>\n",
       "      <th>...</th>\n",
       "      <td>...</td>\n",
       "      <td>...</td>\n",
       "      <td>...</td>\n",
       "      <td>...</td>\n",
       "      <td>...</td>\n",
       "      <td>...</td>\n",
       "      <td>...</td>\n",
       "      <td>...</td>\n",
       "      <td>...</td>\n",
       "      <td>...</td>\n",
       "      <td>...</td>\n",
       "      <td>...</td>\n",
       "    </tr>\n",
       "    <tr>\n",
       "      <th>71006795</th>\n",
       "      <td>9484617</td>\n",
       "      <td>71006796</td>\n",
       "      <td>1361642</td>\n",
       "      <td>177</td>\n",
       "      <td>1</td>\n",
       "      <td>5</td>\n",
       "      <td>48.0</td>\n",
       "      <td>1.0</td>\n",
       "      <td>250.0</td>\n",
       "      <td>4.0</td>\n",
       "      <td>NaN</td>\n",
       "      <td>804.0</td>\n",
       "    </tr>\n",
       "    <tr>\n",
       "      <th>71006796</th>\n",
       "      <td>9484617</td>\n",
       "      <td>71006797</td>\n",
       "      <td>3990</td>\n",
       "      <td>162</td>\n",
       "      <td>1</td>\n",
       "      <td>1</td>\n",
       "      <td>48.0</td>\n",
       "      <td>1.0</td>\n",
       "      <td>4.0</td>\n",
       "      <td>3.0</td>\n",
       "      <td>NaN</td>\n",
       "      <td>804.0</td>\n",
       "    </tr>\n",
       "    <tr>\n",
       "      <th>71006797</th>\n",
       "      <td>9484617</td>\n",
       "      <td>71006798</td>\n",
       "      <td>1361631</td>\n",
       "      <td>109</td>\n",
       "      <td>2</td>\n",
       "      <td>2</td>\n",
       "      <td>42.0</td>\n",
       "      <td>1.0</td>\n",
       "      <td>1.0</td>\n",
       "      <td>2.0</td>\n",
       "      <td>NaN</td>\n",
       "      <td>804.0</td>\n",
       "    </tr>\n",
       "    <tr>\n",
       "      <th>71006798</th>\n",
       "      <td>9484617</td>\n",
       "      <td>71006799</td>\n",
       "      <td>2023866</td>\n",
       "      <td>17083</td>\n",
       "      <td>2</td>\n",
       "      <td>2</td>\n",
       "      <td>58.0</td>\n",
       "      <td>1.0</td>\n",
       "      <td>5.0</td>\n",
       "      <td>26.0</td>\n",
       "      <td>NaN</td>\n",
       "      <td>804.0</td>\n",
       "    </tr>\n",
       "    <tr>\n",
       "      <th>71006799</th>\n",
       "      <td>9484617</td>\n",
       "      <td>71006800</td>\n",
       "      <td>41879</td>\n",
       "      <td>10018</td>\n",
       "      <td>1</td>\n",
       "      <td>1</td>\n",
       "      <td>30.0</td>\n",
       "      <td>1.0</td>\n",
       "      <td>15.0</td>\n",
       "      <td>3.0</td>\n",
       "      <td>NaN</td>\n",
       "      <td>804.0</td>\n",
       "    </tr>\n",
       "  </tbody>\n",
       "</table>\n",
       "<p>291734 rows × 12 columns</p>\n",
       "</div>"
      ],
      "text/plain": [
       "          UMCReportId   Drug_Id  MedicinalProd_Id  DrecNo  Seq1 Seq2  Route  \\\n",
       "1003         14226956      1010           1510210   57100     2  002   48.0   \n",
       "1397          4742330      1394              6547     286     1  001    NaN   \n",
       "1398          4742330      1397             16828    1462     1  007    NaN   \n",
       "1399          4742330      1398             15060    1138     1  001    NaN   \n",
       "1400          4742330      1400              9014     447     1  001    NaN   \n",
       "...               ...       ...               ...     ...   ...  ...    ...   \n",
       "71006795      9484617  71006796           1361642     177     1    5   48.0   \n",
       "71006796      9484617  71006797              3990     162     1    1   48.0   \n",
       "71006797      9484617  71006798           1361631     109     2    2   42.0   \n",
       "71006798      9484617  71006799           2023866   17083     2    2   58.0   \n",
       "71006799      9484617  71006800             41879   10018     1    1   30.0   \n",
       "\n",
       "          Basis  Amount  AmountU  Frequency  FrequencyU  \n",
       "1003        1.0     NaN      NaN        NaN         NaN  \n",
       "1397        2.0     NaN      NaN        NaN       804.0  \n",
       "1398        2.0     NaN      NaN        NaN       804.0  \n",
       "1399        2.0     NaN      NaN        NaN       804.0  \n",
       "1400        2.0     NaN      NaN        NaN       804.0  \n",
       "...         ...     ...      ...        ...         ...  \n",
       "71006795    1.0   250.0      4.0        NaN       804.0  \n",
       "71006796    1.0     4.0      3.0        NaN       804.0  \n",
       "71006797    1.0     1.0      2.0        NaN       804.0  \n",
       "71006798    1.0     5.0     26.0        NaN       804.0  \n",
       "71006799    1.0    15.0      3.0        NaN       804.0  \n",
       "\n",
       "[291734 rows x 12 columns]"
      ]
     },
     "execution_count": 82,
     "metadata": {},
     "output_type": "execute_result"
    }
   ],
   "source": [
    "table_name = \"DRUG\"\n",
    "drug = pd.read_csv(FILTERED_DATA_DIR / f\"{table_name}.csv\", index_col=0, na_values=\"-\")\n",
    "drug"
   ]
  },
  {
   "cell_type": "code",
   "execution_count": 83,
   "id": "58f41cc5",
   "metadata": {},
   "outputs": [
    {
     "data": {
      "text/plain": [
       "291734"
      ]
     },
     "execution_count": 83,
     "metadata": {},
     "output_type": "execute_result"
    }
   ],
   "source": [
    "len(drug[\"Drug_Id\"])"
   ]
  },
  {
   "cell_type": "code",
   "execution_count": 84,
   "id": "25ecdbe8",
   "metadata": {},
   "outputs": [],
   "source": [
    "drug_id_pancreatitis = drug[\"Drug_Id\"].unique()"
   ]
  },
  {
   "cell_type": "code",
   "execution_count": 85,
   "id": "84093dc2",
   "metadata": {},
   "outputs": [
    {
     "name": "stdout",
     "output_type": "stream",
     "text": [
      "IND counts\n",
      "\tbefore: 35,474,400\n",
      "\tafter: 127,379\n",
      "LINK counts\n",
      "\tbefore: 99,273,742\n",
      "\tafter: 507,837\n"
     ]
    }
   ],
   "source": [
    "table_names = [\"IND\", \"LINK\"]\n",
    "for table in table_names:\n",
    "  df = pd.read_csv(CSV_DATA_DIR / f\"{table}.csv\", index_col=0, na_values=\"-\")\n",
    "  print(table, \"counts\")\n",
    "  print(\"\\tbefore:\", f\"{len(df):,}\")\n",
    "  df = df[df[\"Drug_Id\"].isin(drug_id_pancreatitis)]\n",
    "  print(\"\\tafter:\", f\"{len(df):,}\")\n",
    "  df.to_csv(FILTERED_DATA_DIR / f\"{table}.csv\")"
   ]
  },
  {
   "cell_type": "code",
   "execution_count": null,
   "id": "b5e92057",
   "metadata": {},
   "outputs": [],
   "source": []
  },
  {
   "cell_type": "code",
   "execution_count": 86,
   "id": "5bdb23cd",
   "metadata": {},
   "outputs": [],
   "source": [
    "# sns.barplot(data=adr, y=\"Outcome\")"
   ]
  },
  {
   "cell_type": "code",
   "execution_count": 87,
   "id": "b3e52d4b",
   "metadata": {},
   "outputs": [
    {
     "ename": "NameError",
     "evalue": "name 'res' is not defined",
     "output_type": "error",
     "traceback": [
      "\u001b[0;31m---------------------------------------------------------------------------\u001b[0m",
      "\u001b[0;31mNameError\u001b[0m                                 Traceback (most recent call last)",
      "Input \u001b[0;32mIn [87]\u001b[0m, in \u001b[0;36m<cell line: 1>\u001b[0;34m()\u001b[0m\n\u001b[0;32m----> 1\u001b[0m sns\u001b[38;5;241m.\u001b[39mbarplot(data\u001b[38;5;241m=\u001b[39m\u001b[43mres\u001b[49m, x\u001b[38;5;241m=\u001b[39m\u001b[38;5;124m\"\u001b[39m\u001b[38;5;124mOutcome\u001b[39m\u001b[38;5;124m\"\u001b[39m, y\u001b[38;5;241m=\u001b[39m\u001b[38;5;124m\"\u001b[39m\u001b[38;5;124mcounts\u001b[39m\u001b[38;5;124m\"\u001b[39m)\n",
      "\u001b[0;31mNameError\u001b[0m: name 'res' is not defined"
     ]
    }
   ],
   "source": [
    "sns.barplot(data=res, x=\"Outcome\", y=\"counts\")"
   ]
  },
  {
   "cell_type": "code",
   "execution_count": null,
   "id": "5b051014",
   "metadata": {},
   "outputs": [],
   "source": [
    "res = adr[[\"Outcome\"]].value_counts().reset_index()\n",
    "res = res.rename({0: \"counts\"}, axis=\"columns\")"
   ]
  },
  {
   "cell_type": "code",
   "execution_count": null,
   "id": "354e794d",
   "metadata": {},
   "outputs": [],
   "source": [
    "res.dtypes"
   ]
  },
  {
   "cell_type": "code",
   "execution_count": 4,
   "id": "635170a6",
   "metadata": {},
   "outputs": [
    {
     "ename": "NameError",
     "evalue": "name 'table' is not defined",
     "output_type": "error",
     "traceback": [
      "\u001b[0;31m---------------------------------------------------------------------------\u001b[0m",
      "\u001b[0;31mNameError\u001b[0m                                 Traceback (most recent call last)",
      "Input \u001b[0;32mIn [4]\u001b[0m, in \u001b[0;36m<cell line: 1>\u001b[0;34m()\u001b[0m\n\u001b[0;32m----> 1\u001b[0m \u001b[43mtable\u001b[49m\n",
      "\u001b[0;31mNameError\u001b[0m: name 'table' is not defined"
     ]
    }
   ],
   "source": [
    "table"
   ]
  },
  {
   "cell_type": "code",
   "execution_count": 8,
   "id": "809a46aa-55eb-4044-9136-6f6d39241049",
   "metadata": {},
   "outputs": [
    {
     "data": {
      "text/plain": [
       "UMCReportId  Adr_Id    MedDRA_Id  Outcome\n",
       "1            910       10012735   5.0        1\n",
       "26809723     65993343  10013946   1.0        1\n",
       "26809736     65993328  10047895   6.0        1\n",
       "26809738     65993329  10062519   3.0        1\n",
       "             65993330  10035528   3.0        1\n",
       "                                            ..\n",
       "13495371     32580574  10017955   5.0        1\n",
       "13495375     32580570  10048393   1.0        1\n",
       "13495376     32580564  10011906   5.0        1\n",
       "13495377     32580576  10050256   6.0        1\n",
       "37938522     64184536  10043521   6.0        1\n",
       "Length: 54840741, dtype: int64"
      ]
     },
     "execution_count": 8,
     "metadata": {},
     "output_type": "execute_result"
    }
   ],
   "source": [
    "adr.value_counts()"
   ]
  },
  {
   "cell_type": "code",
   "execution_count": null,
   "id": "e10aebab-9f6e-4d65-b31f-5fedce9e8a2d",
   "metadata": {},
   "outputs": [],
   "source": []
  }
 ],
 "metadata": {
  "kernelspec": {
   "display_name": "databae",
   "language": "python",
   "name": "databae"
  },
  "language_info": {
   "codemirror_mode": {
    "name": "ipython",
    "version": 3
   },
   "file_extension": ".py",
   "mimetype": "text/x-python",
   "name": "python",
   "nbconvert_exporter": "python",
   "pygments_lexer": "ipython3",
   "version": "3.10.4"
  }
 },
 "nbformat": 4,
 "nbformat_minor": 5
}
