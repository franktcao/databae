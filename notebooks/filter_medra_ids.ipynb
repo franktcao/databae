{
 "cells": [
  {
   "cell_type": "markdown",
   "id": "49c3144a-be01-44b6-8482-f6c8763f4706",
   "metadata": {},
   "source": [
    "# Purpose\n",
    "(Step 3.) Filter data to focus on relevant subset"
   ]
  },
  {
   "cell_type": "code",
   "execution_count": null,
   "id": "749d0814",
   "metadata": {},
   "outputs": [],
   "source": [
    "import os\n",
    "from pathlib import Path\n",
    "\n",
    "import numpy as np\n",
    "import pandas as pd\n",
    "import seaborn as sns\n",
    "from tqdm.notebook import tqdm"
   ]
  },
  {
   "cell_type": "code",
   "execution_count": null,
   "id": "ed4897e8",
   "metadata": {},
   "outputs": [],
   "source": [
    "ROOT_DIR = Path.cwd().parent\n",
    "DATA_DIR = ROOT_DIR / \"data\" \n",
    "RAW_DATA_DIR = DATA_DIR / \"raw\"\n",
    "CSV_DATA_DIR = DATA_DIR / \"to_csv\"\n",
    "FILTERED_DATA_DIR = DATA_DIR / \"filtered\"\n",
    "TXT_DATA_DIR = RAW_DATA_DIR / \"20210901\"\n",
    "MAIN_TXT_DATA_DIR = TXT_DATA_DIR / \"main\""
   ]
  },
  {
   "cell_type": "markdown",
   "id": "6f2e13f1",
   "metadata": {},
   "source": [
    "# Look at particular MedDRA IDs related to pancreatitis\n",
    "Search for pancreatitis in ... \n",
    "Nevermind, this list was sent to me."
   ]
  },
  {
   "cell_type": "code",
   "execution_count": null,
   "id": "f509f71e",
   "metadata": {},
   "outputs": [],
   "source": [
    "meddra_id_pancreatitis = [\n",
    "  \"10076058\",\n",
    "  \"10076059\",\n",
    "  \"10033588\",\n",
    "  \"10033626\",\n",
    "  \"10033625\",\n",
    "  \"10071853\",\n",
    "  \"10055312\",\n",
    "  \"10058096\",\n",
    "  \"10055858\",\n",
    "  \"10033672\",\n",
    "  \"10019607\",\n",
    "  \"10073794\",\n",
    "  \"10033650\",\n",
    "  \"10033651\",\n",
    "  \"10056219\",\n",
    "  \"10028891\",\n",
    "  \"10033654\",\n",
    "  \"10033655\",\n",
    "  \"10054706\",\n",
    "  \"10052400\",\n",
    "  \"10033635\",\n",
    "  \"10059155\",\n",
    "  \"10076039\",\n",
    "  \"10033645\",\n",
    "  \"10048365\",\n",
    "  \"10033656\",\n",
    "  \"10033658\",\n",
    "  \"110067190\",\n",
    "  \"10000971\",\n",
    "  \"10033647\",\n",
    "  \"10033648\",\n",
    "  \"10066715\",\n",
    "  \"10033657\",\n",
    "]\n",
    "len(meddra_id_pancreatitis)"
   ]
  },
  {
   "cell_type": "code",
   "execution_count": null,
   "id": "1dd40ee6",
   "metadata": {},
   "outputs": [],
   "source": [
    "# import yaml"
   ]
  },
  {
   "cell_type": "markdown",
   "id": "48407a91",
   "metadata": {},
   "source": [
    "# Force into ints since they're inferred when pulling in the ADR table"
   ]
  },
  {
   "cell_type": "code",
   "execution_count": null,
   "id": "49cd0993",
   "metadata": {},
   "outputs": [],
   "source": [
    "meddra_id_pancreatitis = [int(meddra_id) for meddra_id in meddra_id_pancreatitis]"
   ]
  },
  {
   "cell_type": "code",
   "execution_count": null,
   "id": "9618096c",
   "metadata": {},
   "outputs": [],
   "source": []
  },
  {
   "cell_type": "code",
   "execution_count": null,
   "id": "8bf24537",
   "metadata": {},
   "outputs": [],
   "source": [
    "table_name = \"ADR\"\n",
    "adr = pd.read_csv(CSV_DATA_DIR / f\"{table_name}.csv\", index_col=0, na_values=\"-\")\n",
    "print(len(adr))\n",
    "adr.head(3)"
   ]
  },
  {
   "cell_type": "code",
   "execution_count": null,
   "id": "e22283d1",
   "metadata": {},
   "outputs": [],
   "source": [
    "adr.dtypes"
   ]
  },
  {
   "cell_type": "markdown",
   "id": "f9e60783",
   "metadata": {},
   "source": [
    "# Filter ADR by MedDRA IDs we're interested in"
   ]
  },
  {
   "cell_type": "code",
   "execution_count": null,
   "id": "29180910",
   "metadata": {},
   "outputs": [],
   "source": [
    "adr = adr[adr[\"MedDRA_Id\"].isin(meddra_id_pancreatitis)]\n",
    "print(len(adr))\n",
    "adr.head(3)\n",
    "adr.to_csv(FILTERED_DATA_DIR / \"ADR.csv\")"
   ]
  },
  {
   "cell_type": "markdown",
   "id": "5bbe6064",
   "metadata": {},
   "source": [
    "# Find unique patients with some form of pancreatitis"
   ]
  },
  {
   "cell_type": "code",
   "execution_count": null,
   "id": "70c9dc6e",
   "metadata": {},
   "outputs": [],
   "source": [
    "len(adr[\"UMCReportId\"])"
   ]
  },
  {
   "cell_type": "code",
   "execution_count": null,
   "id": "df512df6",
   "metadata": {},
   "outputs": [],
   "source": [
    "len(adr[\"UMCReportId\"].unique())"
   ]
  },
  {
   "cell_type": "code",
   "execution_count": null,
   "id": "ea2b6a44",
   "metadata": {},
   "outputs": [],
   "source": [
    "umc_report_id_pancreatitis = adr[\"UMCReportId\"].unique()\n",
    "umc_report_id_pancreatitis"
   ]
  },
  {
   "cell_type": "markdown",
   "id": "1ad79543",
   "metadata": {},
   "source": [
    "# Also look at patients that followed up or changed/updated their UMC Report ID"
   ]
  },
  {
   "cell_type": "code",
   "execution_count": null,
   "id": "9b8414d1",
   "metadata": {},
   "outputs": [],
   "source": [
    "table_name = \"FOLLOWUP\"\n",
    "followup = pd.read_csv(CSV_DATA_DIR / f\"{table_name}.csv\", index_col=0, na_values=\"-\")\n",
    "print(table_name, \"counts\")\n",
    "print(\"\\tbefore:\", f\"{len(followup):,}\")\n",
    "followup = followup[followup[\"UMCReportId\"].isin(umc_report_id_pancreatitis)]\n",
    "print(\"\\tafter:\", f\"{len(followup):,}\")"
   ]
  },
  {
   "cell_type": "code",
   "execution_count": null,
   "id": "de3f3619",
   "metadata": {},
   "outputs": [],
   "source": [
    "followup\n",
    "new_umc_report_id_pancreatitis = followup[\"ReplacedUMCReportId\"].unique().tolist()\n",
    "# # print(len(followup[\"ReplacedUMCReportId\"]))\n",
    "# # print(len(followup[\"ReplacedUMCReportId\"].unique()))\n",
    "# umc_report_id_pancreatitis += "
   ]
  },
  {
   "cell_type": "code",
   "execution_count": null,
   "id": "7d8ac75a",
   "metadata": {},
   "outputs": [],
   "source": [
    "# print(new_umc_report_id_pancreatitis)\n",
    "# print(umc_report_id_pancreatitis.tolist())\n",
    "\n",
    "umc_report_id_pancreatitis = umc_report_id_pancreatitis.tolist() + followup[\"ReplacedUMCReportId\"].unique().tolist()"
   ]
  },
  {
   "cell_type": "markdown",
   "id": "0e240444",
   "metadata": {},
   "source": [
    "# Filter tables to only have these pancreatitis patients"
   ]
  },
  {
   "cell_type": "code",
   "execution_count": null,
   "id": "0f5ea49f",
   "metadata": {},
   "outputs": [],
   "source": [
    "table_names = [\n",
    "  \"ADR\",\n",
    "  \"DEMO\",\n",
    "  \"DRUG\",\n",
    "  \"FOLLOWUP\",\n",
    "  # \"IND\",\n",
    "  # \"LINK\",\n",
    "  \"OUT\",\n",
    "  \"SRCE\",\n",
    "]"
   ]
  },
  {
   "cell_type": "code",
   "execution_count": null,
   "id": "9b5dfa53",
   "metadata": {},
   "outputs": [],
   "source": [
    "for table in table_names:\n",
    "  df = pd.read_csv(CSV_DATA_DIR / f\"{table}.csv\", index_col=0, na_values=\"-\")\n",
    "  print(table, \"counts\")\n",
    "  \n",
    "  print(\"\\tbefore:\", f\"{len(df):,}\")\n",
    "  df = df[df[\"UMCReportId\"].isin(umc_report_id_pancreatitis)]\n",
    "  print(\"\\tafter:\", f\"{len(df):,}\")\n",
    "  df.to_csv(FILTERED_DATA_DIR / f\"{table}.csv\")"
   ]
  },
  {
   "cell_type": "code",
   "execution_count": null,
   "id": "92eb14b9",
   "metadata": {},
   "outputs": [],
   "source": [
    "len(umc_report_id_pancreatitis)"
   ]
  },
  {
   "cell_type": "code",
   "execution_count": null,
   "id": "60e0fee8",
   "metadata": {},
   "outputs": [],
   "source": [
    "for table in table_names:\n",
    "  df = pd.read_csv(CSV_DATA_DIR / f\"{table}.csv\", index_col=0, na_values=\"-\")\n",
    "  print(table, \"counts\")\n",
    "  print(\"\\tbefore:\", f\"{len(df):,}\")\n",
    "  df = df[df[\"UMCReportId\"].isin(umc_report_id_pancreatitis)]\n",
    "  print(\"\\tafter:\", f\"{len(df):,}\")\n",
    "  df.to_csv(FILTERED_DATA_DIR / f\"{table}.csv\")"
   ]
  },
  {
   "cell_type": "markdown",
   "id": "274bfcdf",
   "metadata": {},
   "source": [
    "# Filter tables where the identifier is the drug ID, using only drugs used for the pancreatitis patients"
   ]
  },
  {
   "cell_type": "code",
   "execution_count": null,
   "id": "e05d73d6",
   "metadata": {},
   "outputs": [],
   "source": [
    "table_name = \"DRUG\"\n",
    "drug = pd.read_csv(FILTERED_DATA_DIR / f\"{table_name}.csv\", index_col=0, na_values=\"-\")\n",
    "drug"
   ]
  },
  {
   "cell_type": "code",
   "execution_count": null,
   "id": "58f41cc5",
   "metadata": {},
   "outputs": [],
   "source": [
    "len(drug[\"Drug_Id\"])"
   ]
  },
  {
   "cell_type": "code",
   "execution_count": null,
   "id": "25ecdbe8",
   "metadata": {},
   "outputs": [],
   "source": [
    "drug_id_pancreatitis = drug[\"Drug_Id\"].unique()"
   ]
  },
  {
   "cell_type": "code",
   "execution_count": null,
   "id": "84093dc2",
   "metadata": {},
   "outputs": [],
   "source": [
    "table_names = [\"IND\", \"LINK\"]\n",
    "for table in table_names:\n",
    "  df = pd.read_csv(CSV_DATA_DIR / f\"{table}.csv\", index_col=0, na_values=\"-\")\n",
    "  print(table, \"counts\")\n",
    "  print(\"\\tbefore:\", f\"{len(df):,}\")\n",
    "  df = df[df[\"Drug_Id\"].isin(drug_id_pancreatitis)]\n",
    "  print(\"\\tafter:\", f\"{len(df):,}\")\n",
    "  df.to_csv(FILTERED_DATA_DIR / f\"{table}.csv\")"
   ]
  },
  {
   "cell_type": "code",
   "execution_count": null,
   "id": "b5e92057",
   "metadata": {},
   "outputs": [],
   "source": []
  },
  {
   "cell_type": "code",
   "execution_count": null,
   "id": "5bdb23cd",
   "metadata": {},
   "outputs": [],
   "source": [
    "# sns.barplot(data=adr, y=\"Outcome\")"
   ]
  },
  {
   "cell_type": "code",
   "execution_count": null,
   "id": "b3e52d4b",
   "metadata": {},
   "outputs": [],
   "source": [
    "sns.barplot(data=res, x=\"Outcome\", y=\"counts\")"
   ]
  },
  {
   "cell_type": "code",
   "execution_count": null,
   "id": "5b051014",
   "metadata": {},
   "outputs": [],
   "source": [
    "res = adr[[\"Outcome\"]].value_counts().reset_index()\n",
    "res = res.rename({0: \"counts\"}, axis=\"columns\")"
   ]
  },
  {
   "cell_type": "code",
   "execution_count": null,
   "id": "354e794d",
   "metadata": {},
   "outputs": [],
   "source": [
    "res.dtypes"
   ]
  },
  {
   "cell_type": "code",
   "execution_count": null,
   "id": "635170a6",
   "metadata": {},
   "outputs": [],
   "source": [
    "table"
   ]
  },
  {
   "cell_type": "code",
   "execution_count": null,
   "id": "809a46aa-55eb-4044-9136-6f6d39241049",
   "metadata": {},
   "outputs": [],
   "source": [
    "adr.value_counts()"
   ]
  },
  {
   "cell_type": "code",
   "execution_count": null,
   "id": "e10aebab-9f6e-4d65-b31f-5fedce9e8a2d",
   "metadata": {},
   "outputs": [],
   "source": []
  }
 ],
 "metadata": {
  "kernelspec": {
   "display_name": "databae",
   "language": "python",
   "name": "databae"
  },
  "language_info": {
   "codemirror_mode": {
    "name": "ipython",
    "version": 3
   },
   "file_extension": ".py",
   "mimetype": "text/x-python",
   "name": "python",
   "nbconvert_exporter": "python",
   "pygments_lexer": "ipython3",
   "version": "3.10.4"
  }
 },
 "nbformat": 4,
 "nbformat_minor": 5
}
