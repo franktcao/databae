{
 "cells": [
  {
   "cell_type": "code",
   "execution_count": null,
   "id": "2e1ac9e0-c699-4f7b-9af6-553e6e6b88dd",
   "metadata": {},
   "outputs": [],
   "source": [
    "import numpy as np\n",
    "import os\n",
    "import pandas as pd\n",
    "from pathlib import Path\n",
    "import pandas as pd\n",
    "\n",
    "ROOT_DIR = Path.cwd().parent\n",
    "DATA_DIR = ROOT_DIR / \"data\" \n",
    "MANIFEST_DATA_DIR = DATA_DIR / \"manifest\"\n",
    "RAW_DATA_DIR = DATA_DIR / \"raw\"\n",
    "CSV_DATA_DIR = DATA_DIR / \"to_csv\"\n",
    "TXT_DATA_DIR = RAW_DATA_DIR / \"20210901\"\n",
    "MAIN_TXT_DATA_DIR = TXT_DATA_DIR / \"main\""
   ]
  },
  {
   "cell_type": "markdown",
   "id": "5ee3a4ff-36c0-4ec0-9158-b2cb1c0c3df3",
   "metadata": {},
   "source": [
    "# Purpose\n",
    "(Step 0.) Transcribe the file description (see `/databae/doc/VigiBase Extract Case Level - file description.pdf`) into tables to read in the text files line by line"
   ]
  },
  {
   "cell_type": "raw",
   "id": "c416d6a3-aaae-41a6-ad7f-5eb38d3d78c5",
   "metadata": {},
   "source": [
    "manifest_demo = pd.DataFrame(\n",
    "    [\n",
    "       (\"UMCReportId\", int, 11, 0, 11, \"Unique number linking OUT to DEMO\"),\n",
    "       (\"AgeGroup\", str, 1, 11, 12, \"AgeGroup_Lx.Code. Age of patient at time of onset of reaction\"),\n",
    "       (\"Gender\", str, 1, 12, 13, \"Gender_Lx.Code\"),\n",
    "       (\"DateDatabase\", str, 8, 13, 21, \"Date when report was entered into the database. [YYYYMMDD]\"),\n",
    "       (\"Type\", str, 1, 21, 22, \"ReportType_Lx.Code. Report type.\"),\n",
    "       (\"Region\", str, 1, 22, 23, \"Region_lx.Code.\"),\n",
    "       (\"FirstDateDatabase\", str, 8, 23, 31, \"Date when the first version of the report was entered into the database. [YYYYMMDD]\"),\n",
    "    ],\n",
    "  columns = [\"column_name\", \"dtype\", \"number_of_chars\", \"char_position_start\", \"char_position_end\", \"notes\"]\n",
    ")\n",
    "manifest_demo"
   ]
  },
  {
   "cell_type": "code",
   "execution_count": null,
   "id": "c2fdd40f-3757-4525-86c2-b8c6c90b83e3",
   "metadata": {},
   "outputs": [],
   "source": []
  },
  {
   "cell_type": "code",
   "execution_count": null,
   "id": "60cbdd20-f5d2-4ed4-a775-13e41ab497cc",
   "metadata": {},
   "outputs": [],
   "source": [
    "manifest_demo.to_csv(MANIFEST_DATA_DIR / \"DEMO.csv\")"
   ]
  },
  {
   "cell_type": "code",
   "execution_count": null,
   "id": "442490bf-32cd-4f72-a636-c3f4223547aa",
   "metadata": {},
   "outputs": [],
   "source": [
    "manifest_drug = pd.DataFrame(\n",
    "    [\n",
    "       (\"UMCReportId\", int, 11, 0, 11, \"Unique number linking DRUG to DEMO\"),\n",
    "       (\"Drug_Id\", int, 11, 11, 22, \"Unique number identifying each row in DRUG\"),\n",
    "       (\"MedicinalProd_Id\", int, 11, 22, 33, \"A sequential number generated for each Medicinal product\"),\n",
    "       (\"DrecNo\", str, 6, 33, 39, \"Drug record number\"),\n",
    "       (\"Seq1\", str, 2, 39, 41, \"Sequence number 1\"),\n",
    "       (\"Seq2\", str, 3, 41, 44, \"Sequence number 2\"),\n",
    "       (\"Route\", str, 2, 44, 46, \"RouteOfAdm_Lx.Code. Route of administration of drug.\"),\n",
    "       (\"Basis\", str, 1, 46, 47, \"RepBasis_Lx.Code. Characterization of drug role.\"),\n",
    "       (\"Amount\", str, 5, 47, 52, \"Dosage regimen; Amount\"),\n",
    "       (\"AmountU\", str, 2, 52, 54, \"SizeUnit_Lx.Code. Amount unit.\"),\n",
    "       (\"Frequency\", str, 2, 54, 56, \"Number of units in the interval\"),\n",
    "       (\"FrequencyU\", str, 3, 56, 59, \"Frequency_Lx.Code. Definition of the interval.\"),\n",
    "    ],\n",
    "  columns = [\"column_name\", \"dtype\", \"number_of_chars\", \"char_position_start\", \"char_position_end\", \"notes\"]\n",
    ")\n",
    "manifest_drug"
   ]
  },
  {
   "cell_type": "code",
   "execution_count": null,
   "id": "dd3f9ab7-7906-4a5a-97a6-b1e2d7a1fedf",
   "metadata": {},
   "outputs": [],
   "source": [
    "manifest_drug.to_csv(MANIFEST_DATA_DIR / \"DRUG.csv\")"
   ]
  },
  {
   "cell_type": "code",
   "execution_count": null,
   "id": "b5cb50e0-b1ef-4376-977d-57b853788ad8",
   "metadata": {},
   "outputs": [],
   "source": [
    "manifest_followup = pd.DataFrame(\n",
    "    [\n",
    "       (\"UMCReportId\", int, 11, 0, 11, \"Unique number linking FOLLOWUP to DEMO. This number represent the current active report and is used to link with previous versions of the same case.\"),\n",
    "       (\"ReplacedUMCReportId\", int, 11, 11, 22, \"Previous versions of the case, no longer available in DEMO\"),\n",
    "    ],\n",
    "  columns = [\"column_name\", \"dtype\", \"number_of_chars\", \"char_position_start\", \"char_position_end\", \"notes\"]\n",
    ")\n",
    "manifest_followup"
   ]
  },
  {
   "cell_type": "code",
   "execution_count": null,
   "id": "fb13532b-0f51-4f27-80ce-7c45ef0758d7",
   "metadata": {},
   "outputs": [],
   "source": []
  },
  {
   "cell_type": "code",
   "execution_count": null,
   "id": "d0a45151-b7f9-44c6-8bee-d3df06df11e4",
   "metadata": {},
   "outputs": [],
   "source": [
    "manifest_followup.to_csv(MANIFEST_DATA_DIR / \"FOLLOWUP.csv\")"
   ]
  },
  {
   "cell_type": "code",
   "execution_count": null,
   "id": "57ac8d43-09c0-4ca4-ac3c-83390f62c4b4",
   "metadata": {},
   "outputs": [],
   "source": [
    "manifest_ind = pd.DataFrame(\n",
    "    [\n",
    "       (\"Drug_Id\", int, 11, 0, 11, \"Unique number linking IND to DRUG\"),\n",
    "       (\"Indication\", str, 255, 11, 266, \"Reason for drug use. Indication can be decoded from MedDRA, ICD-8, ICD-9 or ICD-10.\"),\n",
    "    ],\n",
    "  columns = [\"column_name\", \"dtype\", \"number_of_chars\", \"char_position_start\", \"char_position_end\", \"notes\"]\n",
    ")\n",
    "manifest_ind"
   ]
  },
  {
   "cell_type": "code",
   "execution_count": null,
   "id": "8085f99b-e48e-4a58-b2b4-8a01a79abb11",
   "metadata": {},
   "outputs": [],
   "source": [
    "manifest_ind.to_csv(MANIFEST_DATA_DIR / \"IND.csv\")"
   ]
  },
  {
   "cell_type": "code",
   "execution_count": null,
   "id": "dfc9fd25-3556-4300-9b8a-6b3dc01b41ea",
   "metadata": {},
   "outputs": [],
   "source": [
    "manifest_link = pd.DataFrame(\n",
    "    [\n",
    "       (\"Drug_Id\", int, 11, 1, 11, \"Unique number linking LINK to DRUG\"),\n",
    "       (\"Adr_Id\", int, 11, 11, 22, \"Unique number linking LINK to ADR\"),\n",
    "       (\"Dechallenge1\", str, 1, 22, 23, \"Dechallenge_Lx.Code. Dechallenge action.\"),\n",
    "       (\"Dechallenge2\", str, 1, 23, 24, \"Dechallenge2_Lx.Code. Dechallenge outcome.\"),\n",
    "       (\"Rechallenge1\", str, 1, 24, 25, \"Rechallenge_Lx.Code. Rechallenge action.\"),\n",
    "       (\"Rechallenge2\", str, 1, 25, 26, \"Rechallenge2_Lx.Code. Rechallenge outcome.\"),\n",
    "       (\"TimeToOnsetMin\", float, 11, 26, 37, \"Always in the base unit days (see Appendix 1)\"),\n",
    "       (\"TimeToOnsetMax\", float, 11, 37, 48, \"Always in the base unit days (see Appendix 1)\"),\n",
    "    ],\n",
    "  columns = [\"column_name\", \"dtype\", \"number_of_chars\", \"char_position_start\", \"char_position_end\", \"notes\"]\n",
    ")\n",
    "manifest_link"
   ]
  },
  {
   "cell_type": "code",
   "execution_count": null,
   "id": "c51aa4b1-f5d4-48e7-860d-c876c02b8bd0",
   "metadata": {},
   "outputs": [],
   "source": [
    "manifest_link.to_csv(MANIFEST_DATA_DIR / \"LINK.csv\")"
   ]
  },
  {
   "cell_type": "code",
   "execution_count": null,
   "id": "9fe1153e-83a7-4b61-a41e-b15543e66376",
   "metadata": {},
   "outputs": [],
   "source": [
    "manifest_out = pd.DataFrame(\n",
    "    [\n",
    "       (\"UMCReportId\", int, 11, 0, 11, \"Unique number linking OUT to DEMO\"),\n",
    "       (\"Seriousness\", str, 2, 11, 13, \"Seriousness_Lx.Code. Seriousness criteria of case.\"),\n",
    "       (\"Serious\", str, 1, 13, 14, \"The value refers to if the case was serious or not. Could be either ’Y’ = yes ’N’ = no\"),\n",
    "    ],\n",
    "  columns = [\"column_name\", \"dtype\", \"number_of_chars\", \"char_position_start\", \"char_position_end\", \"notes\"]\n",
    ")\n",
    "manifest_out"
   ]
  },
  {
   "cell_type": "code",
   "execution_count": null,
   "id": "fd66bab5-b9d1-48d4-b655-7275ce1b0c75",
   "metadata": {},
   "outputs": [],
   "source": [
    "manifest_out.to_csv(MANIFEST_DATA_DIR / \"OUT.csv\")"
   ]
  },
  {
   "cell_type": "code",
   "execution_count": null,
   "id": "4d7cb951-4b63-4c5c-b658-33e9febceb54",
   "metadata": {},
   "outputs": [],
   "source": [
    "manifest_srce = pd.DataFrame(\n",
    "    [\n",
    "       (\"UMCReportId\", int, 11, 0, 11, \"Unique number linking OUT to DEMO\"),\n",
    "       (\"Type\", str, 2, 11, 13, \"Notifier_Lx.Code. Notifier type.\"),\n",
    "    ],\n",
    "  columns = [\"column_name\", \"dtype\", \"number_of_chars\", \"char_position_start\", \"char_position_end\", \"notes\"]\n",
    ")\n",
    "manifest_srce"
   ]
  },
  {
   "cell_type": "code",
   "execution_count": null,
   "id": "a711c510-d50c-4d79-b702-5476d3fcd441",
   "metadata": {},
   "outputs": [],
   "source": [
    "manifest_srce.to_csv(MANIFEST_DATA_DIR / \"SRCE.csv\")"
   ]
  },
  {
   "cell_type": "code",
   "execution_count": null,
   "id": "2df94dfb-e54f-4197-a503-3a29a57ed705",
   "metadata": {},
   "outputs": [],
   "source": [
    "manifest_adr = pd.DataFrame(\n",
    "    [\n",
    "       (\"UMCReportId\", int, 11, 0, 11, \"Unique number linking OUT to DEMO\"),\n",
    "       (\"Adr_Id\", int, 11, 11, 22, \"Unique number identifying each row in ADR\"),\n",
    "       (\"MedDRA_Id\", int, 8, 22, 30, \"MedDRA term code\"),\n",
    "       (\"Outcome\", str, 1, 30, 31, \"Outcome_Lx.Code. Outcome of reaction.\"),\n",
    "    ],\n",
    "  columns = [\"column_name\", \"dtype\", \"number_of_chars\", \"char_position_start\", \"char_position_end\", \"notes\"]\n",
    ")\n",
    "manifest_adr"
   ]
  },
  {
   "cell_type": "code",
   "execution_count": null,
   "id": "c2f8cd1c-2a89-4928-8512-cc874a0e295e",
   "metadata": {},
   "outputs": [],
   "source": []
  },
  {
   "cell_type": "code",
   "execution_count": null,
   "id": "4ab4c014-901f-4c1e-b93e-7ff822d0ccdc",
   "metadata": {},
   "outputs": [],
   "source": [
    "manifest_adr.to_dict(orient=\"record\")[0]"
   ]
  },
  {
   "cell_type": "code",
   "execution_count": null,
   "id": "3d3b0aa5-2f56-4cab-a33b-a2c2aad0bf77",
   "metadata": {},
   "outputs": [],
   "source": [
    "manifest_adr.to_csv(MANIFEST_DATA_DIR / \"ADR.csv\")"
   ]
  },
  {
   "cell_type": "code",
   "execution_count": null,
   "id": "d6f2e334-3076-49a9-b52c-b720804d53c5",
   "metadata": {},
   "outputs": [],
   "source": [
    "count = pd.DataFrame(\n",
    "  columns=[\"Table\", \"No of rows\"],\n",
    "  data=[\n",
    "    (\"ADR\", 66802344),\n",
    "    (\"DEMO\", 27213386),\n",
    "    (\"DRUG\", 71006811),  # OLD\n",
    "    # (\"DRUG\", 78_840_125),  # NEW\n",
    "    #(\"DRUG\", 78840125),  # NEW\n",
    "    (\"FOLLOWUP\", 7759897),\n",
    "    (\"IND\", 35474400),\n",
    "    (\"LINK\", 99273742),\n",
    "    (\"OUT\", 22677257),\n",
    "    (\"SRCE\", 21105031 ),\n",
    "  ],\n",
    ")\n",
    "pd.options.display.float_format = '{:,.0f}'.format\n",
    "\n",
    "count[\"No of rows\"] =  count[\"No of rows\"].astype(float)\n",
    "display(count)"
   ]
  },
  {
   "cell_type": "code",
   "execution_count": null,
   "id": "6d4e1bf7-970f-4731-b43f-a66ebf5855eb",
   "metadata": {},
   "outputs": [],
   "source": [
    "pd.options.display.float_format"
   ]
  },
  {
   "cell_type": "code",
   "execution_count": null,
   "id": "d7f97559-2890-4073-a43d-8c4f25e61103",
   "metadata": {},
   "outputs": [],
   "source": [
    "count.to_csv(MANIFEST_DATA_DIR / \"count.csv\")"
   ]
  },
  {
   "cell_type": "code",
   "execution_count": null,
   "id": "9a99fddd-001b-4416-910b-e0eb97b799b6",
   "metadata": {},
   "outputs": [],
   "source": [
    "count.to_csv(MANIFEST_DATA_DIR / \"count.csv\")"
   ]
  },
  {
   "cell_type": "code",
   "execution_count": null,
   "id": "9733b02b-4748-40a0-bb0a-7380a2fc327d",
   "metadata": {},
   "outputs": [],
   "source": [
    "count[count[\"Table\"] == \"ADR\"][\"No of rows\"].values\n"
   ]
  },
  {
   "cell_type": "code",
   "execution_count": null,
   "id": "62ad94a4-8eb4-4936-add0-a827016dc638",
   "metadata": {},
   "outputs": [],
   "source": [
    "count.loc[count[\"Table\"] == \"ADR\", \"No of rows\"].squeeze()"
   ]
  },
  {
   "cell_type": "code",
   "execution_count": null,
   "id": "1878b55a-b91a-4bd2-8dc4-26b8bc3e5935",
   "metadata": {},
   "outputs": [],
   "source": []
  }
 ],
 "metadata": {
  "kernelspec": {
   "display_name": "databae",
   "language": "python",
   "name": "databae"
  },
  "language_info": {
   "codemirror_mode": {
    "name": "ipython",
    "version": 3
   },
   "file_extension": ".py",
   "mimetype": "text/x-python",
   "name": "python",
   "nbconvert_exporter": "python",
   "pygments_lexer": "ipython3",
   "version": "3.10.4"
  }
 },
 "nbformat": 4,
 "nbformat_minor": 5
}
