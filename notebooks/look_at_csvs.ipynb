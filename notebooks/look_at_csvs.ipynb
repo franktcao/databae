{
 "cells": [
  {
   "cell_type": "markdown",
   "id": "0991fb02-d56e-4d82-a908-ca678ffe301a",
   "metadata": {},
   "source": [
    "# Purpose\n",
    "(Step 2.) Look at the CSV parsed "
   ]
  },
  {
   "cell_type": "code",
   "execution_count": null,
   "id": "15f84620-0df0-4d46-add1-c9344a8afaac",
   "metadata": {},
   "outputs": [],
   "source": [
    "import numpy as np\n",
    "import os\n",
    "import pandas as pd\n",
    "from pathlib import Path\n",
    "import pandas as pd\n",
    "from tqdm.notebook import tqdm"
   ]
  },
  {
   "cell_type": "code",
   "execution_count": null,
   "id": "94ff1493-997f-4dac-a36c-89093cbf5c47",
   "metadata": {},
   "outputs": [],
   "source": [
    "ROOT_DIR = Path.cwd().parent\n",
    "DATA_DIR = ROOT_DIR / \"data\" \n",
    "RAW_DATA_DIR = DATA_DIR / \"raw\"\n",
    "CSV_DATA_DIR = DATA_DIR / \"to_csv\"\n",
    "TXT_DATA_DIR = RAW_DATA_DIR / \"20210901\"\n",
    "MAIN_TXT_DATA_DIR = TXT_DATA_DIR / \"main\""
   ]
  },
  {
   "cell_type": "code",
   "execution_count": null,
   "id": "0008b07f-1d0d-45e7-8b98-454e1ac140eb",
   "metadata": {},
   "outputs": [],
   "source": [
    "result = [None for _ in range(5)]\n",
    "result"
   ]
  },
  {
   "cell_type": "code",
   "execution_count": null,
   "id": "7606edf6-c52e-406c-afdd-6c1ea8e506dd",
   "metadata": {},
   "outputs": [],
   "source": [
    "result[0] = 23"
   ]
  },
  {
   "cell_type": "code",
   "execution_count": null,
   "id": "8ff0b2bf-9594-4460-a7b2-0411c6b1d2a8",
   "metadata": {},
   "outputs": [],
   "source": [
    "result[2] = 44\n",
    "result"
   ]
  },
  {
   "cell_type": "code",
   "execution_count": null,
   "id": "27a09a8b-b362-40f2-800b-7233394973df",
   "metadata": {},
   "outputs": [],
   "source": [
    "table_name = \"ADR\"  # Done\n",
    "# table_name = \"DEMO\"  # Don\n",
    "# table_name = \"DRUG\"  # Done\n",
    "# table_name = \"FOLLOWUP\" # Done\n",
    "# table_name = \"IND\"  # No work\n",
    "# table_name = \"LINK\"  # Done the old way I guess\n",
    "# table_name = \"OUT\"  # Done the old way I guess\n",
    "# table_name = \"SRCE\"  # Done the old way I guess\n",
    "display(pd.read_csv(CSV_DATA_DIR / f\"{table_name}.csv\", nrows=100, index_col=0).drop_duplicates())"
   ]
  },
  {
   "cell_type": "code",
   "execution_count": null,
   "id": "84ac7b15-3ad5-410f-8810-97525e383802",
   "metadata": {},
   "outputs": [],
   "source": [
    "table_names = [\n",
    "  \"ADR\",\n",
    "  # \"DEMO\",\n",
    "  \"DRUG\",\n",
    "  # \"FOLLOWUP\",\n",
    "  # \"IND\",\n",
    "  \"LINK\",\n",
    "  \"OUT\",\n",
    "  \"SRCE\",\n",
    "]"
   ]
  },
  {
   "cell_type": "code",
   "execution_count": null,
   "id": "fac2b9c9-ae29-49ac-b68b-90bbbb620279",
   "metadata": {},
   "outputs": [],
   "source": [
    "impo\n",
    "table_name = \"ADR\"\n",
    "(pd.read_csv(CSV_DATA_DIR / f\"{table_name}.csv\", nrows=3, index_col=0))"
   ]
  },
  {
   "cell_type": "code",
   "execution_count": null,
   "id": "9542638a-ccb2-4554-867c-66d37c42e4d4",
   "metadata": {},
   "outputs": [],
   "source": [
    "for table_name in table_names:\n",
    "  display(pd.read_csv(CSV_DATA_DIR / f\"{table_name}.csv\", nrows=3, index_col=0))"
   ]
  },
  {
   "cell_type": "code",
   "execution_count": null,
   "id": "a8f46d4a-31da-4e62-aaa9-e5864daadb02",
   "metadata": {},
   "outputs": [],
   "source": [
    "for idx in range(1, 16):\n",
    "  display(pd.read_csv(CSV_DATA_DIR / \"partitioned\" / f\"DRUG_{idx}.csv\", nrows=3, index_col=0))"
   ]
  },
  {
   "cell_type": "code",
   "execution_count": null,
   "id": "7fee175d-1685-49dd-bfac-0168d49a6402",
   "metadata": {},
   "outputs": [],
   "source": []
  },
  {
   "cell_type": "code",
   "execution_count": null,
   "id": "79f97739-db3a-45d8-97a0-31e85c34dcf8",
   "metadata": {},
   "outputs": [],
   "source": [
    "df = pd.DataFrame()"
   ]
  },
  {
   "cell_type": "code",
   "execution_count": null,
   "id": "09e81272-3d48-4a33-91cc-4da7daa04f68",
   "metadata": {},
   "outputs": [],
   "source": [
    "df.to_csv(\"dsds\", ind"
   ]
  }
 ],
 "metadata": {
  "kernelspec": {
   "display_name": "databae",
   "language": "python",
   "name": "databae"
  },
  "language_info": {
   "codemirror_mode": {
    "name": "ipython",
    "version": 3
   },
   "file_extension": ".py",
   "mimetype": "text/x-python",
   "name": "python",
   "nbconvert_exporter": "python",
   "pygments_lexer": "ipython3",
   "version": "3.10.4"
  }
 },
 "nbformat": 4,
 "nbformat_minor": 5
}
