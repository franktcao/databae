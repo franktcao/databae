{
 "cells": [
  {
   "cell_type": "code",
   "execution_count": null,
   "id": "1db5bb38",
   "metadata": {},
   "outputs": [],
   "source": [
    "import os\n",
    "from pathlib import Path\n",
    "\n",
    "import pandas as pd"
   ]
  },
  {
   "cell_type": "code",
   "execution_count": null,
   "id": "839e9b1f",
   "metadata": {},
   "outputs": [],
   "source": [
    "data_dir = Path.cwd().parent / \"data\" / \"raw\"\n",
    "fname = \"train_labels.csv\"\n",
    "fpath = data_dir / fname\n",
    "\n",
    "# df = pd.read_csv(fpath, nrows=10)\n",
    "# print(df)\n",
    "\n",
    "test_set_path = data_dir / \"test\"\n",
    "test_set_image_names = os.listdir(test_set_path)\n",
    "n_test = len(test_set_image_names)\n",
    "print(f\"Test images: {n_test:,}\")\n",
    "print(test_set_path / test_set_image_names[0])\n",
    "\n",
    "\n",
    "train_set_path = data_dir / \"train\"\n",
    "train_set_image_names = os.listdir(train_set_path)\n",
    "n_train = len(train_set_image_names)\n",
    "print(f\"Train images: {n_train:,}\")\n",
    "print(train_set_path / train_set_image_names[0])\n",
    "\n",
    "n_total = n_test + n_train\n",
    "print(f\"Total images: {n_total:,}\")"
   ]
  },
  {
   "cell_type": "code",
   "execution_count": null,
   "id": "fea4e5c5",
   "metadata": {},
   "outputs": [],
   "source": [
    "from datetime import timedelta\n",
    "pd.date_range(\"06/15/2022\", periods=5)  + timedelta(days=10)"
   ]
  },
  {
   "cell_type": "code",
   "execution_count": null,
   "id": "0990c2e4",
   "metadata": {},
   "outputs": [],
   "source": [
    "\n",
    "pd.date_range(\"06/15/2022\", periods=5) + pd.to_timedelta([12, 13, 1, 2, 4], unit=\"d\")"
   ]
  },
  {
   "cell_type": "code",
   "execution_count": null,
   "id": "c3efae80",
   "metadata": {},
   "outputs": [],
   "source": [
    "pd.to_datetime(\"1/3/2012 16:00:00\")"
   ]
  },
  {
   "cell_type": "code",
   "execution_count": null,
   "id": "ec7d7f81-3e00-4629-8f01-5c50e45042a4",
   "metadata": {},
   "outputs": [],
   "source": [
    "df = pd.DataFrame(\n",
    "  {\n",
    "    \"str1\": [\"hi\", \"bye\", \"guy\"],\n",
    "    \"str2\": [\"h1\", \"by3\", \"9uy\"],\n",
    "  }\n",
    ")\n",
    "df   "
   ]
  },
  {
   "cell_type": "code",
   "execution_count": null,
   "id": "2cbbe3d5-4aae-4f8d-bd7c-e21f8bcabbcc",
   "metadata": {},
   "outputs": [],
   "source": [
    "df[\"str1\"].str.cat(df[\"str2\"], sep=\" \")"
   ]
  },
  {
   "cell_type": "code",
   "execution_count": null,
   "id": "5ca72a51-9da3-4303-a9ff-b4ffcec3735b",
   "metadata": {},
   "outputs": [],
   "source": [
    "string = \"\"\"\n",
    "1/3/2012 16:00:00   Missing_1\n",
    "1/4/2012 16:00:00   27.47\n",
    "1/5/2012 16:00:00   27.728\n",
    "1/6/2012 16:00:00   28.19\n",
    "\"\"\""
   ]
  },
  {
   "cell_type": "code",
   "execution_count": null,
   "id": "c2e7a70d-4331-4b4d-a33c-5a2235157cf8",
   "metadata": {},
   "outputs": [],
   "source": [
    "string.split(\" \")"
   ]
  },
  {
   "cell_type": "code",
   "execution_count": null,
   "id": "7c68e09b-4e6f-4a79-873a-6145c882fb41",
   "metadata": {},
   "outputs": [],
   "source": [
    "string.split(\"\\n\")"
   ]
  },
  {
   "cell_type": "code",
   "execution_count": null,
   "id": "ae783cfd-11e3-4aaf-9160-8d2bba7fbb17",
   "metadata": {},
   "outputs": [],
   "source": [
    "for i in df[\"val\"]:\n",
    "  display(i, i.isdecimal())"
   ]
  },
  {
   "cell_type": "code",
   "execution_count": null,
   "id": "2be328b2-ab35-4647-9b15-d5fcf62aaecb",
   "metadata": {},
   "outputs": [],
   "source": [
    "df[\"val\"].str.strip().str.isdecimal()"
   ]
  },
  {
   "cell_type": "code",
   "execution_count": null,
   "id": "189606fa-ebeb-42d9-92ab-d960bd1f3641",
   "metadata": {},
   "outputs": [],
   "source": [
    "import io\n",
    "\n",
    "df = pd.read_csv(io.StringIO(string), delim_whitespace=True, header=None)\n",
    "\n",
    "def append_raw_cols(df):\n",
    "  raw_columns = [\"date\", \"time\", \"val\"]\n",
    "  df.columns = raw_columns \n",
    "  \n",
    "  return df\n",
    "\n",
    "def concat_cols(df):\n",
    "  df.loc[:, \"datetime\"] = df[\"date\"].str.cat(df[\"time\"], sep=\" \")\n",
    "  \n",
    "  return df\n",
    "\n",
    "def cast_to_date(df):\n",
    "  df.loc[:, \"datetime\"] = pd.to_datetime(df[\"datetime\"])\n",
    "  \n",
    "  return df\n",
    "\n",
    "def is_float(val):\n",
    "  try:\n",
    "    float(val)\n",
    "    return True\n",
    "  except:\n",
    "    return False\n",
    "\n",
    "def remove_missing(df):\n",
    "  df.loc[:, \"is_val_float\"] = df[\"val\"].apply(is_float)\n",
    "  df.loc[:, \"val\"] = df.apply(lambda row: row[\"val\"] if row[\"is_val_float\"] else None, axis=\"columns\")\n",
    "  \n",
    "  return df.drop(\"is_val_float\", axis=\"columns\")\n",
    "\n",
    "def reindex_to_time(df):\n",
    "  df.index = df[\"datetime\"]\n",
    "  \n",
    "  return df.drop([\"datetime\", \"date\", \"time\"], axis=\"columns\")\n",
    "\n",
    "def fill_val(df):\n",
    "  df.loc[:, \"val\"] = df[\"val\"].interpolate()\n",
    "  df.loc[:, \"val\"] = df[\"val\"].interpolate(method=\"bfill\")\n",
    "  df.loc[:, \"val\"] = df[\"val\"].interpolate(method=\"bffill\")\n",
    "  \n",
    "  return df\n",
    "\n",
    "(\n",
    "  df.pipe(append_raw_cols)\n",
    "  .pipe(concat_cols)\n",
    "  .pipe(cast_to_date)\n",
    "  .pipe(remove_missing)\n",
    "  .pipe(reindex_to_time)\n",
    "  .pipe(fill_val)\n",
    ")"
   ]
  },
  {
   "cell_type": "code",
   "execution_count": null,
   "id": "a3a50624-8476-433d-96fa-c146c33dd16f",
   "metadata": {},
   "outputs": [],
   "source": [
    "help(pd.read_table)"
   ]
  },
  {
   "cell_type": "code",
   "execution_count": null,
   "id": "22d958b5-36aa-477c-b945-e3b8c78da3bb",
   "metadata": {},
   "outputs": [],
   "source": [
    "[func for func in dir(pd) if func.startswith(\"read_\")]"
   ]
  },
  {
   "cell_type": "code",
   "execution_count": null,
   "id": "f2e23731-e8a2-442a-b401-80ae3ee80204",
   "metadata": {},
   "outputs": [],
   "source": []
  }
 ],
 "metadata": {
  "kernelspec": {
   "display_name": "databae",
   "language": "python",
   "name": "databae"
  },
  "language_info": {
   "codemirror_mode": {
    "name": "ipython",
    "version": 3
   },
   "file_extension": ".py",
   "mimetype": "text/x-python",
   "name": "python",
   "nbconvert_exporter": "python",
   "pygments_lexer": "ipython3",
   "version": "3.10.4 (main, Jun 18 2022, 16:46:10) [Clang 13.1.6 (clang-1316.0.21.2.5)]"
  }
 },
 "nbformat": 4,
 "nbformat_minor": 5
}
