{
 "cells": [
  {
   "cell_type": "code",
   "execution_count": 13,
   "id": "8e12899b",
   "metadata": {},
   "outputs": [],
   "source": [
    "from __future__ import print_function\n",
    "\n",
    "import os.path\n",
    "from pathlib import Path\n",
    "\n",
    "from google.auth.transport.requests import Request\n",
    "from google.oauth2.credentials import Credentials\n",
    "from google_auth_oauthlib.flow import InstalledAppFlow\n",
    "from googleapiclient.discovery import build\n",
    "from googleapiclient.errors import HttpError\n",
    "\n",
    "# If modifying these scopes, delete the file token.json.\n",
    "SCOPES = ['https://www.googleapis.com/auth/drive.metadata.readonly']"
   ]
  },
  {
   "cell_type": "code",
   "execution_count": 34,
   "id": "2be0769c",
   "metadata": {},
   "outputs": [],
   "source": [
    "creds = None\n",
    "# The file token.json stores the user's access and refresh tokens, and is\n",
    "# created automatically when the authorization flow completes for the first\n",
    "# time.\n",
    "fpath = Path.cwd().parent / 'token.json'\n",
    "if os.path.exists(fpath):\n",
    "    creds = Credentials.from_authorized_user_file(fpath, SCOPES)"
   ]
  },
  {
   "cell_type": "code",
   "execution_count": 35,
   "id": "1e7a2d2a",
   "metadata": {},
   "outputs": [
    {
     "data": {
      "text/plain": [
       "<google.oauth2.credentials.Credentials at 0x11a508790>"
      ]
     },
     "execution_count": 35,
     "metadata": {},
     "output_type": "execute_result"
    }
   ],
   "source": [
    "creds"
   ]
  },
  {
   "cell_type": "code",
   "execution_count": null,
   "id": "d05aa1f2",
   "metadata": {},
   "outputs": [],
   "source": []
  },
  {
   "cell_type": "code",
   "execution_count": null,
   "id": "7e51c9d0",
   "metadata": {},
   "outputs": [],
   "source": []
  },
  {
   "cell_type": "code",
   "execution_count": 36,
   "id": "1db5bb38",
   "metadata": {},
   "outputs": [],
   "source": [
    "import io\n",
    "\n",
    "import google.auth\n",
    "from googleapiclient.discovery import build\n",
    "from googleapiclient.errors import HttpError\n",
    "from googleapiclient.http import MediaIoBaseDownload\n",
    "from googleapiclient.http import MediaFileUpload\n"
   ]
  },
  {
   "cell_type": "code",
   "execution_count": 31,
   "id": "36329c63",
   "metadata": {},
   "outputs": [
    {
     "data": {
      "text/plain": [
       "<google.oauth2.credentials.Credentials at 0x11a556e60>"
      ]
     },
     "execution_count": 31,
     "metadata": {},
     "output_type": "execute_result"
    }
   ],
   "source": [
    "creds, _ = google.auth.default()\n",
    "creds"
   ]
  },
  {
   "cell_type": "code",
   "execution_count": 37,
   "id": "d676c19b",
   "metadata": {},
   "outputs": [],
   "source": [
    "from pathlib import Path\n",
    "\n",
    "fpath_data = Path.cwd().parent / \"data\"\n",
    "\n",
    "fname = \"test.txt\"\n",
    "fname = \"test.jpeg\"\n",
    "fpath = fpath_data / fname"
   ]
  },
  {
   "cell_type": "code",
   "execution_count": 38,
   "id": "9df22edc",
   "metadata": {},
   "outputs": [
    {
     "name": "stderr",
     "output_type": "stream",
     "text": [
      "/Users/franktcao/local/workspace/machine_learning/databae/.venv/lib/python3.10/site-packages/pygments/regexopt.py:77: ResourceWarning: unclosed <ssl.SSLSocket fd=75, family=AddressFamily.AF_INET, type=SocketKind.SOCK_STREAM, proto=0, laddr=('10.5.0.2', 53077), raddr=('142.250.64.106', 443)>\n",
      "  '|'.join(regex_opt_inner(list(group[1]), '')\n",
      "ResourceWarning: Enable tracemalloc to get the object allocation traceback\n",
      "/Users/franktcao/local/workspace/machine_learning/databae/.venv/lib/python3.10/site-packages/pygments/regexopt.py:77: ResourceWarning: unclosed <ssl.SSLSocket fd=71, family=AddressFamily.AF_INET, type=SocketKind.SOCK_STREAM, proto=0, laddr=('10.5.0.2', 53087), raddr=('142.250.64.106', 443)>\n",
      "  '|'.join(regex_opt_inner(list(group[1]), '')\n",
      "ResourceWarning: Enable tracemalloc to get the object allocation traceback\n"
     ]
    },
    {
     "ename": "HttpError",
     "evalue": "<HttpError 403 when requesting https://www.googleapis.com/upload/drive/v3/files?fields=id&alt=json&uploadType=multipart returned \"Insufficient Permission: Request had insufficient authentication scopes.\". Details: \"[{'domain': 'global', 'reason': 'insufficientPermissions', 'message': 'Insufficient Permission: Request had insufficient authentication scopes.'}]\">",
     "output_type": "error",
     "traceback": [
      "\u001b[0;31m---------------------------------------------------------------------------\u001b[0m",
      "\u001b[0;31mHttpError\u001b[0m                                 Traceback (most recent call last)",
      "Cell \u001b[0;32mIn[38], line 9\u001b[0m\n\u001b[1;32m      3\u001b[0m media \u001b[39m=\u001b[39m MediaFileUpload(\u001b[39mstr\u001b[39m(fpath),\n\u001b[1;32m      4\u001b[0m                         mimetype\u001b[39m=\u001b[39m\u001b[39m'\u001b[39m\u001b[39mimage/jpeg\u001b[39m\u001b[39m'\u001b[39m)\n\u001b[1;32m      5\u001b[0m \u001b[39m# pylint: disable=maybe-no-member\u001b[39;00m\n\u001b[1;32m      6\u001b[0m file \u001b[39m=\u001b[39m service\u001b[39m.\u001b[39;49mfiles()\u001b[39m.\u001b[39;49mcreate(\n\u001b[1;32m      7\u001b[0m     body\u001b[39m=\u001b[39;49mfile_metadata, \n\u001b[1;32m      8\u001b[0m     media_body\u001b[39m=\u001b[39;49mmedia,\n\u001b[0;32m----> 9\u001b[0m     fields\u001b[39m=\u001b[39;49m\u001b[39m'\u001b[39;49m\u001b[39mid\u001b[39;49m\u001b[39m'\u001b[39;49m)\u001b[39m.\u001b[39;49mexecute()\n\u001b[1;32m     10\u001b[0m \u001b[39mprint\u001b[39m(\u001b[39mF\u001b[39m\u001b[39m'\u001b[39m\u001b[39mFile ID: \u001b[39m\u001b[39m{\u001b[39;00mfile\u001b[39m.\u001b[39mget(\u001b[39m\"\u001b[39m\u001b[39mid\u001b[39m\u001b[39m\"\u001b[39m)\u001b[39m}\u001b[39;00m\u001b[39m'\u001b[39m)\n",
      "File \u001b[0;32m~/local/workspace/machine_learning/databae/.venv/lib/python3.10/site-packages/googleapiclient/_helpers.py:130\u001b[0m, in \u001b[0;36mpositional.<locals>.positional_decorator.<locals>.positional_wrapper\u001b[0;34m(*args, **kwargs)\u001b[0m\n\u001b[1;32m    128\u001b[0m     \u001b[39melif\u001b[39;00m positional_parameters_enforcement \u001b[39m==\u001b[39m POSITIONAL_WARNING:\n\u001b[1;32m    129\u001b[0m         logger\u001b[39m.\u001b[39mwarning(message)\n\u001b[0;32m--> 130\u001b[0m \u001b[39mreturn\u001b[39;00m wrapped(\u001b[39m*\u001b[39;49margs, \u001b[39m*\u001b[39;49m\u001b[39m*\u001b[39;49mkwargs)\n",
      "File \u001b[0;32m~/local/workspace/machine_learning/databae/.venv/lib/python3.10/site-packages/googleapiclient/http.py:938\u001b[0m, in \u001b[0;36mHttpRequest.execute\u001b[0;34m(self, http, num_retries)\u001b[0m\n\u001b[1;32m    936\u001b[0m     callback(resp)\n\u001b[1;32m    937\u001b[0m \u001b[39mif\u001b[39;00m resp\u001b[39m.\u001b[39mstatus \u001b[39m>\u001b[39m\u001b[39m=\u001b[39m \u001b[39m300\u001b[39m:\n\u001b[0;32m--> 938\u001b[0m     \u001b[39mraise\u001b[39;00m HttpError(resp, content, uri\u001b[39m=\u001b[39m\u001b[39mself\u001b[39m\u001b[39m.\u001b[39muri)\n\u001b[1;32m    939\u001b[0m \u001b[39mreturn\u001b[39;00m \u001b[39mself\u001b[39m\u001b[39m.\u001b[39mpostproc(resp, content)\n",
      "\u001b[0;31mHttpError\u001b[0m: <HttpError 403 when requesting https://www.googleapis.com/upload/drive/v3/files?fields=id&alt=json&uploadType=multipart returned \"Insufficient Permission: Request had insufficient authentication scopes.\". Details: \"[{'domain': 'global', 'reason': 'insufficientPermissions', 'message': 'Insufficient Permission: Request had insufficient authentication scopes.'}]\">"
     ]
    }
   ],
   "source": [
    "service = build('drive', 'v3', credentials=creds)\n",
    "file_metadata = {'name': fpath.stem}\n",
    "media = MediaFileUpload(str(fpath),\n",
    "                        mimetype='image/jpeg')\n",
    "# pylint: disable=maybe-no-member\n",
    "file = service.files().create(\n",
    "    body=file_metadata, \n",
    "    media_body=media,\n",
    "    fields='id').execute()\n",
    "print(F'File ID: {file.get(\"id\")}')\n"
   ]
  },
  {
   "cell_type": "code",
   "execution_count": null,
   "id": "ea9f96d6",
   "metadata": {},
   "outputs": [],
   "source": []
  }
 ],
 "metadata": {
  "kernelspec": {
   "display_name": "databae",
   "language": "python",
   "name": "databae"
  },
  "language_info": {
   "codemirror_mode": {
    "name": "ipython",
    "version": 3
   },
   "file_extension": ".py",
   "mimetype": "text/x-python",
   "name": "python",
   "nbconvert_exporter": "python",
   "pygments_lexer": "ipython3",
   "version": "3.10.4"
  }
 },
 "nbformat": 4,
 "nbformat_minor": 5
}
